{
 "cells": [
  {
   "cell_type": "code",
   "execution_count": 3,
   "metadata": {},
   "outputs": [],
   "source": [
    "import os\n",
    "import re"
   ]
  },
  {
   "cell_type": "markdown",
   "metadata": {},
   "source": [
    "Renaming csvs"
   ]
  },
  {
   "cell_type": "code",
   "execution_count": 5,
   "metadata": {},
   "outputs": [],
   "source": [
    "counter = 1\n",
    "for i in os.listdir():\n",
    "    if i.endswith('.csv') and not re.match(r'^\\d', i):\n",
    "        os.rename(i, str(counter) + '_' + i.replace(' ', '_'))\n",
    "        counter += 1"
   ]
  },
  {
   "cell_type": "markdown",
   "metadata": {},
   "source": [
    "Renaming zips"
   ]
  },
  {
   "cell_type": "code",
   "execution_count": 7,
   "metadata": {},
   "outputs": [],
   "source": [
    "counter = 5\n",
    "for i in os.listdir():\n",
    "    if i.endswith('.zip') and not re.match(r'^\\d', i):\n",
    "        os.rename(i, str(counter) + '_' + i.replace(' ', '_'))\n",
    "        counter += 1\n",
    "        "
   ]
  },
  {
   "cell_type": "markdown",
   "metadata": {},
   "source": [
    "Un-rename csvs"
   ]
  },
  {
   "cell_type": "code",
   "execution_count": 7,
   "metadata": {},
   "outputs": [],
   "source": [
    "os.chdir('../datasets/')\n",
    "for i in os.listdir():\n",
    "    if i.endswith('.csv'):\n",
    "        first_underscore_index = i.index('_')\n",
    "        os.rename(i, i[first_underscore_index+1:])"
   ]
  },
  {
   "cell_type": "markdown",
   "metadata": {},
   "source": [
    "Rename CSVs to use aa, ab, ac convention"
   ]
  },
  {
   "cell_type": "code",
   "execution_count": 8,
   "metadata": {},
   "outputs": [],
   "source": [
    "# Change current working directory to datasets\n",
    "os.chdir('../datasets/')\n",
    "counter = 0\n",
    "for i in os.listdir():\n",
    "    # Change starting characters from numbers to aa, ab, ac, and so on\n",
    "    if i.endswith('.csv'):\n",
    "        os.rename(i, 'a' + str(chr(97 + counter)) + '_' + i)\n",
    "        counter += 1"
   ]
  }
 ],
 "metadata": {
  "kernelspec": {
   "display_name": "ML_Project",
   "language": "python",
   "name": "python3"
  },
  "language_info": {
   "codemirror_mode": {
    "name": "ipython",
    "version": 3
   },
   "file_extension": ".py",
   "mimetype": "text/x-python",
   "name": "python",
   "nbconvert_exporter": "python",
   "pygments_lexer": "ipython3",
   "version": "3.10.13"
  },
  "orig_nbformat": 4
 },
 "nbformat": 4,
 "nbformat_minor": 2
}
