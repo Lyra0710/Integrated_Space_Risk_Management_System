{
 "cells": [
  {
   "cell_type": "markdown",
   "metadata": {},
   "source": [
    "Imports"
   ]
  },
  {
   "cell_type": "code",
   "execution_count": 2,
   "metadata": {},
   "outputs": [],
   "source": [
    "import pandas as pd\n",
    "import numpy as np\n",
    "import matplotlib.pyplot as plt\n",
    "import os\n",
    "# os.chdir('C:/Users/Admin/Aditya Hegde/ML Project/NEO-Classification')"
   ]
  },
  {
   "cell_type": "markdown",
   "metadata": {},
   "source": [
    "### File Ops"
   ]
  },
  {
   "cell_type": "markdown",
   "metadata": {},
   "source": [
    "Rename all CSVs (in datasets)"
   ]
  },
  {
   "cell_type": "code",
   "execution_count": 2,
   "metadata": {},
   "outputs": [
    {
     "name": "stdout",
     "output_type": "stream",
     "text": [
      "Renamed: asteroid_diameter_neo_pha.csv to aa_asteroid_diameter_neo_pha.csv\n",
      "Renamed: cneos_closeapproach_data_pha.csv to ab_cneos_closeapproach_data_pha.csv\n",
      "Renamed: dataset_neo_pha.csv to ac_dataset_neo_pha.csv\n",
      "Renamed: NASA_Near-Earth_Objects_neo_pha.csv to ad_NASA_Near-Earth_Objects_neo_pha.csv\n",
      "Renamed: nasa_pha.csv to ae_nasa_pha.csv\n",
      "Renamed: neo_v2_pha.csv to af_neo_v2_pha.csv\n",
      "Renamed: orbits_pha_neo.csv to ag_orbits_pha_neo.csv\n",
      "Renamed: sbdb_query_results_neo_pha.csv to ah_sbdb_query_results_neo_pha.csv\n"
     ]
    }
   ],
   "source": [
    "files = os.listdir('datasets')\n",
    "\n",
    "# Enumerate through the files and rename them with prefixes\n",
    "for index, file_name in enumerate(files):\n",
    "    # Generate the prefix (aa_, ab_, ac_, ...)\n",
    "    prefix = chr(ord('a') + (index // 26)) + chr(ord('a') + (index % 26)) + \"_\"\n",
    "    # Construct the new file name with the prefix\n",
    "    new_file_name = prefix + file_name\n",
    "\n",
    "    # Construct the full paths for the old and new names\n",
    "    old_path = os.path.join('datasets', file_name)\n",
    "    new_path = os.path.join('datasets', new_file_name)\n",
    "\n",
    "    # Rename the file\n",
    "    os.rename(old_path, new_path)\n",
    "    print(f\"Renamed: {file_name} to {new_file_name}\")"
   ]
  },
  {
   "cell_type": "markdown",
   "metadata": {},
   "source": [
    "Rename all CSVs in final"
   ]
  },
  {
   "cell_type": "code",
   "execution_count": 22,
   "metadata": {},
   "outputs": [
    {
     "name": "stdout",
     "output_type": "stream",
     "text": [
      "Renamed: cneos_closeapproach_data.csv to ba_cneos_closeapproach_data.csv\n",
      "Renamed: Future_Asteroids.csv to bb_Future_Asteroids.csv\n"
     ]
    }
   ],
   "source": [
    "files = os.listdir('Final_datasets')\n",
    "\n",
    "# Enumerate through the files and rename them with prefixes\n",
    "for index, file_name in enumerate(files):\n",
    "    # Generate the prefix (aa_, ab_, ac_, ...)\n",
    "    prefix = chr(ord('b') + (index // 26)) + chr(ord('a') + (index % 26)) + \"_\"\n",
    "    \n",
    "    # Construct the new file name with the prefix\n",
    "    new_file_name = prefix + file_name\n",
    "\n",
    "    # Construct the full paths for the old and new names\n",
    "    old_path = os.path.join('Final_datasets', file_name)\n",
    "    new_path = os.path.join('Final_datasets', new_file_name)\n",
    "\n",
    "    # Rename the file\n",
    "    os.rename(old_path, new_path)\n",
    "    print(f\"Renamed: {file_name} to {new_file_name}\")"
   ]
  },
  {
   "cell_type": "markdown",
   "metadata": {},
   "source": [
    "Un-Rename all CSVs"
   ]
  },
  {
   "cell_type": "code",
   "execution_count": 1,
   "metadata": {},
   "outputs": [],
   "source": [
    "import os\n",
    "for folder in ['datasets']:    \n",
    "    for i in os.listdir(folder):\n",
    "        if i[2] == '_':\n",
    "            new_name = folder + '/' + i[3:]\n",
    "            os.rename(folder + '/' + i, folder + '/' + i[3:])"
   ]
  },
  {
   "cell_type": "markdown",
   "metadata": {},
   "source": [
    "List all csvs"
   ]
  },
  {
   "cell_type": "code",
   "execution_count": 35,
   "metadata": {},
   "outputs": [
    {
     "name": "stdout",
     "output_type": "stream",
     "text": [
      "aa_Amerigeoss_see_what_you_can_use_Near-Earth_Comets_-_Orbital_Elements.csv\n",
      "ab_asteroid_diameter.csv\n",
      "af_Future_Asteroids.csv\n",
      "ag_nasa.csv\n",
      "ah_NASA_Near-Earth_Objects.csv\n",
      "ai_Near-Earth_Asteroids_(NEAs).csv\n",
      "aj_Near_Earth_Asteroids.csv\n",
      "ak_NEOS-Close-Approach-Data.csv\n",
      "al_NEO_Earth_Close_Approaches.csv\n",
      "am_neo_v2.csv\n",
      "an_orbits.csv\n",
      "ao_orbits_-_orbits.csv\n",
      "ap_pha_use_only_NEA_class.csv\n",
      "aq_sbdb_query_results.csv\n",
      "ar_vizier_votable1.csv\n",
      "as_vizier_votable2.csv\n",
      "\n",
      "16\n"
     ]
    }
   ],
   "source": [
    "CSVs = []\n",
    "# os.chdir('datasets')\n",
    "for file in os.listdir('datasets'):\n",
    "    if file.endswith(\".csv\") and file[0].isalpha():\n",
    "        CSVs.append(file)\n",
    "        print(file)\n",
    "\n",
    "print(f'\\n{len(CSVs)}')"
   ]
  },
  {
   "cell_type": "markdown",
   "metadata": {},
   "source": [
    "### Read all csv headers"
   ]
  },
  {
   "cell_type": "code",
   "execution_count": 32,
   "metadata": {},
   "outputs": [],
   "source": [
    "# Read all csv headers\n",
    "headers = []\n",
    "no_attributes = []\n",
    "for file in CSVs:\n",
    "    df = pd.read_csv(file, nrows=1)\n",
    "    headers.append(df.columns.tolist())\n",
    "    no_attributes.append(len(df.columns.tolist()))\n",
    "\n",
    "final = []\n",
    "for i, j in zip(no_attributes, headers):\n",
    "    final.append([i, j])\n",
    "    print([i, j])"
   ]
  },
  {
   "cell_type": "code",
   "execution_count": 33,
   "metadata": {},
   "outputs": [],
   "source": [
    "import os\n",
    "import csv\n",
    "\n",
    "# Initialize an empty dictionary to store grouped data\n",
    "grouped_data = {}\n",
    "\n",
    "# Iterate through the CSV files in the directory\n",
    "for filename in os.listdir():\n",
    "    if filename.endswith(\".csv\"):\n",
    "        # Extract the CSV name and number of attributes\n",
    "        csv_name = os.path.splitext(filename)[0]\n",
    "        with open(os.path.join(filename), 'r') as csvfile:\n",
    "            csv_reader = csv.reader(csvfile)\n",
    "            attributes = next(csv_reader)  # Read the first row as attributes\n",
    "            num_attributes = len(attributes)\n",
    "        \n",
    "        # Group the data by the number of attributes\n",
    "        if num_attributes in grouped_data:\n",
    "            grouped_data[num_attributes].append({csv_name: attributes})\n",
    "        else:\n",
    "            grouped_data[num_attributes] = [{csv_name: attributes}]\n",
    "\n",
    "# Sort the groups by the number of attributes\n",
    "sorted_groups = sorted(grouped_data.items())\n",
    "\n",
    "# Create the final dictionary with the desired format\n",
    "final_result = {num_attr: data for num_attr, data in sorted_groups}\n",
    "\n",
    "result_keys = list(final_result.keys())\n",
    "result_keys.sort()\n",
    "sorted_dict = {i: final_result[i] for i in result_keys}\n",
    "\n",
    "# Display the result\n",
    "for num_attributes, csv_list in final_result.items():\n",
    "    print(f\"Attributes: {num_attributes}\")\n",
    "    for csvs in csv_list:\n",
    "        print(f\"{list(csvs.keys())[0]}:\\t{list(csvs.values())[0]}\")\n",
    "    print('\\n')\n"
   ]
  },
  {
   "cell_type": "code",
   "execution_count": 34,
   "metadata": {},
   "outputs": [
    {
     "ename": "FileNotFoundError",
     "evalue": "[Errno 2] No such file or directory: 'al_NEO_Earth_Close_Approaches.csv'",
     "output_type": "error",
     "traceback": [
      "\u001b[1;31m---------------------------------------------------------------------------\u001b[0m",
      "\u001b[1;31mFileNotFoundError\u001b[0m                         Traceback (most recent call last)",
      "\u001b[1;32mc:\\Users\\Admin\\Aditya Hegde\\ML Project\\NEO-Classification\\compare_csvs.ipynb Cell 8\u001b[0m line \u001b[0;36m1\n\u001b[1;32m----> <a href='vscode-notebook-cell:/c%3A/Users/Admin/Aditya%20Hegde/ML%20Project/NEO-Classification/compare_csvs.ipynb#X10sZmlsZQ%3D%3D?line=0'>1</a>\u001b[0m df1 \u001b[39m=\u001b[39m pd\u001b[39m.\u001b[39;49mread_csv(\u001b[39m'\u001b[39;49m\u001b[39mal_NEO_Earth_Close_Approaches.csv\u001b[39;49m\u001b[39m'\u001b[39;49m)\u001b[39m.\u001b[39mdropna(axis\u001b[39m=\u001b[39m\u001b[39m0\u001b[39m)\u001b[39m.\u001b[39mdrop_duplicates()\u001b[39m.\u001b[39miloc[:, :\u001b[39m-\u001b[39m\u001b[39m1\u001b[39m]\n\u001b[0;32m      <a href='vscode-notebook-cell:/c%3A/Users/Admin/Aditya%20Hegde/ML%20Project/NEO-Classification/compare_csvs.ipynb#X10sZmlsZQ%3D%3D?line=1'>2</a>\u001b[0m df2 \u001b[39m=\u001b[39m pd\u001b[39m.\u001b[39mread_csv(\u001b[39m'\u001b[39m\u001b[39mad_cneos_closeapproach_data.csv\u001b[39m\u001b[39m'\u001b[39m)\u001b[39m.\u001b[39mdropna(axis\u001b[39m=\u001b[39m\u001b[39m0\u001b[39m)\u001b[39m.\u001b[39mdrop_duplicates()\u001b[39m.\u001b[39miloc[:, :\u001b[39m-\u001b[39m\u001b[39m1\u001b[39m]\n\u001b[0;32m      <a href='vscode-notebook-cell:/c%3A/Users/Admin/Aditya%20Hegde/ML%20Project/NEO-Classification/compare_csvs.ipynb#X10sZmlsZQ%3D%3D?line=3'>4</a>\u001b[0m \u001b[39mprint\u001b[39m(df1\u001b[39m.\u001b[39minfo(), end\u001b[39m=\u001b[39m\u001b[39m\"\u001b[39m\u001b[39m\\n\u001b[39;00m\u001b[39m\\n\u001b[39;00m\u001b[39m\\n\u001b[39;00m\u001b[39m\"\u001b[39m)\n",
      "File \u001b[1;32mc:\\Users\\Admin\\anaconda3\\envs\\ML_Project\\lib\\site-packages\\pandas\\io\\parsers\\readers.py:912\u001b[0m, in \u001b[0;36mread_csv\u001b[1;34m(filepath_or_buffer, sep, delimiter, header, names, index_col, usecols, dtype, engine, converters, true_values, false_values, skipinitialspace, skiprows, skipfooter, nrows, na_values, keep_default_na, na_filter, verbose, skip_blank_lines, parse_dates, infer_datetime_format, keep_date_col, date_parser, date_format, dayfirst, cache_dates, iterator, chunksize, compression, thousands, decimal, lineterminator, quotechar, quoting, doublequote, escapechar, comment, encoding, encoding_errors, dialect, on_bad_lines, delim_whitespace, low_memory, memory_map, float_precision, storage_options, dtype_backend)\u001b[0m\n\u001b[0;32m    899\u001b[0m kwds_defaults \u001b[39m=\u001b[39m _refine_defaults_read(\n\u001b[0;32m    900\u001b[0m     dialect,\n\u001b[0;32m    901\u001b[0m     delimiter,\n\u001b[1;32m   (...)\u001b[0m\n\u001b[0;32m    908\u001b[0m     dtype_backend\u001b[39m=\u001b[39mdtype_backend,\n\u001b[0;32m    909\u001b[0m )\n\u001b[0;32m    910\u001b[0m kwds\u001b[39m.\u001b[39mupdate(kwds_defaults)\n\u001b[1;32m--> 912\u001b[0m \u001b[39mreturn\u001b[39;00m _read(filepath_or_buffer, kwds)\n",
      "File \u001b[1;32mc:\\Users\\Admin\\anaconda3\\envs\\ML_Project\\lib\\site-packages\\pandas\\io\\parsers\\readers.py:577\u001b[0m, in \u001b[0;36m_read\u001b[1;34m(filepath_or_buffer, kwds)\u001b[0m\n\u001b[0;32m    574\u001b[0m _validate_names(kwds\u001b[39m.\u001b[39mget(\u001b[39m\"\u001b[39m\u001b[39mnames\u001b[39m\u001b[39m\"\u001b[39m, \u001b[39mNone\u001b[39;00m))\n\u001b[0;32m    576\u001b[0m \u001b[39m# Create the parser.\u001b[39;00m\n\u001b[1;32m--> 577\u001b[0m parser \u001b[39m=\u001b[39m TextFileReader(filepath_or_buffer, \u001b[39m*\u001b[39m\u001b[39m*\u001b[39mkwds)\n\u001b[0;32m    579\u001b[0m \u001b[39mif\u001b[39;00m chunksize \u001b[39mor\u001b[39;00m iterator:\n\u001b[0;32m    580\u001b[0m     \u001b[39mreturn\u001b[39;00m parser\n",
      "File \u001b[1;32mc:\\Users\\Admin\\anaconda3\\envs\\ML_Project\\lib\\site-packages\\pandas\\io\\parsers\\readers.py:1407\u001b[0m, in \u001b[0;36mTextFileReader.__init__\u001b[1;34m(self, f, engine, **kwds)\u001b[0m\n\u001b[0;32m   1404\u001b[0m     \u001b[39mself\u001b[39m\u001b[39m.\u001b[39moptions[\u001b[39m\"\u001b[39m\u001b[39mhas_index_names\u001b[39m\u001b[39m\"\u001b[39m] \u001b[39m=\u001b[39m kwds[\u001b[39m\"\u001b[39m\u001b[39mhas_index_names\u001b[39m\u001b[39m\"\u001b[39m]\n\u001b[0;32m   1406\u001b[0m \u001b[39mself\u001b[39m\u001b[39m.\u001b[39mhandles: IOHandles \u001b[39m|\u001b[39m \u001b[39mNone\u001b[39;00m \u001b[39m=\u001b[39m \u001b[39mNone\u001b[39;00m\n\u001b[1;32m-> 1407\u001b[0m \u001b[39mself\u001b[39m\u001b[39m.\u001b[39m_engine \u001b[39m=\u001b[39m \u001b[39mself\u001b[39;49m\u001b[39m.\u001b[39;49m_make_engine(f, \u001b[39mself\u001b[39;49m\u001b[39m.\u001b[39;49mengine)\n",
      "File \u001b[1;32mc:\\Users\\Admin\\anaconda3\\envs\\ML_Project\\lib\\site-packages\\pandas\\io\\parsers\\readers.py:1661\u001b[0m, in \u001b[0;36mTextFileReader._make_engine\u001b[1;34m(self, f, engine)\u001b[0m\n\u001b[0;32m   1659\u001b[0m     \u001b[39mif\u001b[39;00m \u001b[39m\"\u001b[39m\u001b[39mb\u001b[39m\u001b[39m\"\u001b[39m \u001b[39mnot\u001b[39;00m \u001b[39min\u001b[39;00m mode:\n\u001b[0;32m   1660\u001b[0m         mode \u001b[39m+\u001b[39m\u001b[39m=\u001b[39m \u001b[39m\"\u001b[39m\u001b[39mb\u001b[39m\u001b[39m\"\u001b[39m\n\u001b[1;32m-> 1661\u001b[0m \u001b[39mself\u001b[39m\u001b[39m.\u001b[39mhandles \u001b[39m=\u001b[39m get_handle(\n\u001b[0;32m   1662\u001b[0m     f,\n\u001b[0;32m   1663\u001b[0m     mode,\n\u001b[0;32m   1664\u001b[0m     encoding\u001b[39m=\u001b[39;49m\u001b[39mself\u001b[39;49m\u001b[39m.\u001b[39;49moptions\u001b[39m.\u001b[39;49mget(\u001b[39m\"\u001b[39;49m\u001b[39mencoding\u001b[39;49m\u001b[39m\"\u001b[39;49m, \u001b[39mNone\u001b[39;49;00m),\n\u001b[0;32m   1665\u001b[0m     compression\u001b[39m=\u001b[39;49m\u001b[39mself\u001b[39;49m\u001b[39m.\u001b[39;49moptions\u001b[39m.\u001b[39;49mget(\u001b[39m\"\u001b[39;49m\u001b[39mcompression\u001b[39;49m\u001b[39m\"\u001b[39;49m, \u001b[39mNone\u001b[39;49;00m),\n\u001b[0;32m   1666\u001b[0m     memory_map\u001b[39m=\u001b[39;49m\u001b[39mself\u001b[39;49m\u001b[39m.\u001b[39;49moptions\u001b[39m.\u001b[39;49mget(\u001b[39m\"\u001b[39;49m\u001b[39mmemory_map\u001b[39;49m\u001b[39m\"\u001b[39;49m, \u001b[39mFalse\u001b[39;49;00m),\n\u001b[0;32m   1667\u001b[0m     is_text\u001b[39m=\u001b[39;49mis_text,\n\u001b[0;32m   1668\u001b[0m     errors\u001b[39m=\u001b[39;49m\u001b[39mself\u001b[39;49m\u001b[39m.\u001b[39;49moptions\u001b[39m.\u001b[39;49mget(\u001b[39m\"\u001b[39;49m\u001b[39mencoding_errors\u001b[39;49m\u001b[39m\"\u001b[39;49m, \u001b[39m\"\u001b[39;49m\u001b[39mstrict\u001b[39;49m\u001b[39m\"\u001b[39;49m),\n\u001b[0;32m   1669\u001b[0m     storage_options\u001b[39m=\u001b[39;49m\u001b[39mself\u001b[39;49m\u001b[39m.\u001b[39;49moptions\u001b[39m.\u001b[39;49mget(\u001b[39m\"\u001b[39;49m\u001b[39mstorage_options\u001b[39;49m\u001b[39m\"\u001b[39;49m, \u001b[39mNone\u001b[39;49;00m),\n\u001b[0;32m   1670\u001b[0m )\n\u001b[0;32m   1671\u001b[0m \u001b[39massert\u001b[39;00m \u001b[39mself\u001b[39m\u001b[39m.\u001b[39mhandles \u001b[39mis\u001b[39;00m \u001b[39mnot\u001b[39;00m \u001b[39mNone\u001b[39;00m\n\u001b[0;32m   1672\u001b[0m f \u001b[39m=\u001b[39m \u001b[39mself\u001b[39m\u001b[39m.\u001b[39mhandles\u001b[39m.\u001b[39mhandle\n",
      "File \u001b[1;32mc:\\Users\\Admin\\anaconda3\\envs\\ML_Project\\lib\\site-packages\\pandas\\io\\common.py:859\u001b[0m, in \u001b[0;36mget_handle\u001b[1;34m(path_or_buf, mode, encoding, compression, memory_map, is_text, errors, storage_options)\u001b[0m\n\u001b[0;32m    854\u001b[0m \u001b[39melif\u001b[39;00m \u001b[39misinstance\u001b[39m(handle, \u001b[39mstr\u001b[39m):\n\u001b[0;32m    855\u001b[0m     \u001b[39m# Check whether the filename is to be opened in binary mode.\u001b[39;00m\n\u001b[0;32m    856\u001b[0m     \u001b[39m# Binary mode does not support 'encoding' and 'newline'.\u001b[39;00m\n\u001b[0;32m    857\u001b[0m     \u001b[39mif\u001b[39;00m ioargs\u001b[39m.\u001b[39mencoding \u001b[39mand\u001b[39;00m \u001b[39m\"\u001b[39m\u001b[39mb\u001b[39m\u001b[39m\"\u001b[39m \u001b[39mnot\u001b[39;00m \u001b[39min\u001b[39;00m ioargs\u001b[39m.\u001b[39mmode:\n\u001b[0;32m    858\u001b[0m         \u001b[39m# Encoding\u001b[39;00m\n\u001b[1;32m--> 859\u001b[0m         handle \u001b[39m=\u001b[39m \u001b[39mopen\u001b[39;49m(\n\u001b[0;32m    860\u001b[0m             handle,\n\u001b[0;32m    861\u001b[0m             ioargs\u001b[39m.\u001b[39;49mmode,\n\u001b[0;32m    862\u001b[0m             encoding\u001b[39m=\u001b[39;49mioargs\u001b[39m.\u001b[39;49mencoding,\n\u001b[0;32m    863\u001b[0m             errors\u001b[39m=\u001b[39;49merrors,\n\u001b[0;32m    864\u001b[0m             newline\u001b[39m=\u001b[39;49m\u001b[39m\"\u001b[39;49m\u001b[39m\"\u001b[39;49m,\n\u001b[0;32m    865\u001b[0m         )\n\u001b[0;32m    866\u001b[0m     \u001b[39melse\u001b[39;00m:\n\u001b[0;32m    867\u001b[0m         \u001b[39m# Binary mode\u001b[39;00m\n\u001b[0;32m    868\u001b[0m         handle \u001b[39m=\u001b[39m \u001b[39mopen\u001b[39m(handle, ioargs\u001b[39m.\u001b[39mmode)\n",
      "\u001b[1;31mFileNotFoundError\u001b[0m: [Errno 2] No such file or directory: 'al_NEO_Earth_Close_Approaches.csv'"
     ]
    }
   ],
   "source": [
    "df1 = pd.read_csv('al_NEO_Earth_Close_Approaches.csv').dropna(axis=0).drop_duplicates().iloc[:, :-1]\n",
    "df2 = pd.read_csv('ad_cneos_closeapproach_data.csv').dropna(axis=0).drop_duplicates().iloc[:, :-1]\n",
    "\n",
    "print(df1.info(), end=\"\\n\\n\\n\")\n",
    "\n",
    "print(df2.info())"
   ]
  },
  {
   "cell_type": "code",
   "execution_count": null,
   "metadata": {},
   "outputs": [
    {
     "name": "stdout",
     "output_type": "stream",
     "text": [
      "<class 'pandas.core.frame.DataFrame'>\n",
      "Index: 35910 entries, 0 to 19\n",
      "Data columns (total 8 columns):\n",
      " #   Column                    Non-Null Count  Dtype  \n",
      "---  ------                    --------------  -----  \n",
      " 0   Object                    35910 non-null  object \n",
      " 1   Close-Approach (CA) Date  35910 non-null  object \n",
      " 2   CA DistanceNominal (au)   35910 non-null  object \n",
      " 3   CA DistanceMinimum (au)   35910 non-null  object \n",
      " 4   V relative(km/s)          35910 non-null  float64\n",
      " 5   V infinity(km/s)          35910 non-null  object \n",
      " 6   H(mag)                    35910 non-null  float64\n",
      " 7   Diameter                  35910 non-null  object \n",
      "dtypes: float64(2), object(6)\n",
      "memory usage: 2.5+ MB\n",
      "None\n"
     ]
    }
   ],
   "source": [
    "df1 = pd.concat([df1, df2], axis=0).drop_duplicates()\n",
    "print(df1.info())"
   ]
  },
  {
   "cell_type": "code",
   "execution_count": null,
   "metadata": {},
   "outputs": [],
   "source": [
    "df1.to_csv('at_cneos_closeapproach_data_final.csv', index=False)\n",
    "# we can now discard ad and al csvs"
   ]
  },
  {
   "cell_type": "markdown",
   "metadata": {},
   "source": [
    "To classify as NEO, we will need to see if the closest approach to the sun is less than 1.3 AU. <br>\n",
    "This dataset however, contains only NEOs. So this can only be used for PHA training. <br>\n",
    "For hazardousness, the object will need to be larger than 140 meters across. <br>\n",
    "We can easily create a column for these 2 classifications."
   ]
  },
  {
   "cell_type": "code",
   "execution_count": null,
   "metadata": {},
   "outputs": [],
   "source": [
    "df = pd.read_csv('ad_cneos_closeapproach_data_final.csv')\n",
    "\n",
    "df['CA DistanceMinimum (au)'] = df['CA DistanceMinimum (au)'].apply(lambda x: x.split(' | ')[1].strip() if ' | ' in x else x).astype(float)"
   ]
  },
  {
   "cell_type": "code",
   "execution_count": null,
   "metadata": {},
   "outputs": [],
   "source": [
    "# Create a new \"pha\" column and initialize it with zeros\n",
    "df['pha'] = 0\n",
    "\n",
    "# Apply your conditions to set 'pha' to 1 where necessary\n",
    "df.loc[(df['CA DistanceMinimum (au)'] < 0.01) | (df['H(mag)'] <= 22.0), 'pha'] = 1\n",
    "\n",
    "df.to_csv('ad_cneos_closeapproach_data_final.csv', index=False)"
   ]
  },
  {
   "cell_type": "code",
   "execution_count": null,
   "metadata": {},
   "outputs": [
    {
     "name": "stdout",
     "output_type": "stream",
     "text": [
      "pha\n",
      "0    22778\n",
      "1    13132\n",
      "Name: count, dtype: int64\n"
     ]
    }
   ],
   "source": [
    "print(df['pha'].value_counts())"
   ]
  },
  {
   "cell_type": "code",
   "execution_count": null,
   "metadata": {},
   "outputs": [],
   "source": [
    "df.to_csv('at_cneos_closeapproach_data_final.csv', index=False)"
   ]
  },
  {
   "cell_type": "markdown",
   "metadata": {},
   "source": [
    "### CSV set 2"
   ]
  },
  {
   "cell_type": "code",
   "execution_count": 38,
   "metadata": {},
   "outputs": [
    {
     "name": "stdout",
     "output_type": "stream",
     "text": [
      "<class 'pandas.core.frame.DataFrame'>\n",
      "RangeIndex: 753 entries, 0 to 752\n",
      "Data columns (total 10 columns):\n",
      " #   Column                                                     Non-Null Count  Dtype  \n",
      "---  ------                                                     --------------  -----  \n",
      " 0   Object                                                     753 non-null    object \n",
      " 1   Close-Approach (CA) Date (TDB)YYYY-mmm-DD HH:MM ± D_HH:MM  753 non-null    object \n",
      " 2   CA DistanceNominal(LD/AU)                                  753 non-null    object \n",
      " 3   CA DistanceMinimum(LD/AU)                                  753 non-null    object \n",
      " 4   Vrelative(km/s)                                            753 non-null    float64\n",
      " 5   Vinfinity(km/s)                                            753 non-null    float64\n",
      " 6   Nsigma                                                     753 non-null    float64\n",
      " 7   H(mag)                                                     753 non-null    float64\n",
      " 8   ref                                                        753 non-null    int64  \n",
      " 9   class                                                      753 non-null    object \n",
      "dtypes: float64(4), int64(1), object(5)\n",
      "memory usage: 59.0+ KB\n",
      "<class 'pandas.core.frame.DataFrame'>\n",
      "RangeIndex: 544 entries, 0 to 543\n",
      "Data columns (total 10 columns):\n",
      " #   Column                                                     Non-Null Count  Dtype  \n",
      "---  ------                                                     --------------  -----  \n",
      " 0   Object                                                     544 non-null    object \n",
      " 1   Close-Approach (CA) Date (TDB)YYYY-mmm-DD HH:MM ± D_HH:MM  544 non-null    object \n",
      " 2   CA DistanceNominal(LD/AU)                                  544 non-null    object \n",
      " 3   CA DistanceMinimum(LD/AU)                                  544 non-null    object \n",
      " 4   Vrelative(km/s)                                            544 non-null    float64\n",
      " 5   Vinfinity(km/s)                                            544 non-null    float64\n",
      " 6   Nsigma                                                     544 non-null    float64\n",
      " 7   H(mag)                                                     543 non-null    float64\n",
      " 8   ref                                                        544 non-null    int64  \n",
      " 9   class                                                      544 non-null    object \n",
      "dtypes: float64(4), int64(1), object(5)\n",
      "memory usage: 42.6+ KB\n",
      "<class 'pandas.core.frame.DataFrame'>\n",
      "RangeIndex: 90836 entries, 0 to 90835\n",
      "Data columns (total 10 columns):\n",
      " #   Column              Non-Null Count  Dtype  \n",
      "---  ------              --------------  -----  \n",
      " 0   id                  90836 non-null  int64  \n",
      " 1   name                90836 non-null  object \n",
      " 2   est_diameter_min    90836 non-null  float64\n",
      " 3   est_diameter_max    90836 non-null  float64\n",
      " 4   relative_velocity   90836 non-null  float64\n",
      " 5   miss_distance       90836 non-null  float64\n",
      " 6   orbiting_body       90836 non-null  object \n",
      " 7   sentry_object       90836 non-null  bool   \n",
      " 8   absolute_magnitude  90836 non-null  float64\n",
      " 9   hazardous           90836 non-null  bool   \n",
      "dtypes: bool(2), float64(5), int64(1), object(2)\n",
      "memory usage: 5.7+ MB\n",
      "\n",
      "None\n",
      "\n",
      "None\n",
      "\n",
      "None\n",
      "\n"
     ]
    }
   ],
   "source": [
    "df1, df2, df3 = pd.read_csv('datasets/af_Future_Asteroids.csv', engine='pyarrow').drop_duplicates(), pd.read_csv('datasets/aj_Near_Earth_Asteroids.csv', engine='pyarrow').drop_duplicates(), pd.read_csv('datasets/am_neo_v2.csv', engine='pyarrow').drop_duplicates()\n",
    "\n",
    "print(f\"\\n{df1.info()}\\n\\n{df2.info()}\\n\\n{df3.info()}\\n\")"
   ]
  },
  {
   "cell_type": "code",
   "execution_count": 40,
   "metadata": {},
   "outputs": [
    {
     "name": "stdout",
     "output_type": "stream",
     "text": [
      "class\n",
      "APO*    936\n",
      "ATE*    164\n",
      "AMO*     74\n",
      "IEO*      2\n",
      "JFc*      1\n",
      "Name: count, dtype: int64\n"
     ]
    }
   ],
   "source": [
    "# Append df2 to df1\n",
    "# df1 = pd.concat([df1, df2], axis=0).drop_duplicates()\n",
    "print(df1['class'].value_counts())"
   ]
  },
  {
   "cell_type": "code",
   "execution_count": 41,
   "metadata": {},
   "outputs": [
    {
     "name": "stdout",
     "output_type": "stream",
     "text": [
      "class\n",
      "NEA    1177\n",
      "Name: count, dtype: int64\n"
     ]
    }
   ],
   "source": [
    "# Change all values in df1['class'] to 'NEA'\n",
    "df1['class'] = 'NEA'\n",
    "print(df1['class'].value_counts())"
   ]
  },
  {
   "cell_type": "code",
   "execution_count": 42,
   "metadata": {},
   "outputs": [],
   "source": [
    "df1.to_csv('Final_datasets/af_Future_Asteroids.csv', index=False)"
   ]
  },
  {
   "cell_type": "code",
   "execution_count": 43,
   "metadata": {},
   "outputs": [],
   "source": [
    "del df1, df2, df3\n"
   ]
  },
  {
   "cell_type": "markdown",
   "metadata": {},
   "source": [
    "### Other CSV sets"
   ]
  },
  {
   "cell_type": "markdown",
   "metadata": {},
   "source": [
    "#### Set 1"
   ]
  },
  {
   "cell_type": "code",
   "execution_count": 35,
   "metadata": {},
   "outputs": [],
   "source": [
    "df = pd.read_csv('datasets/ah_neo_v2.csv', engine='pyarrow').drop_duplicates(inplace=False)"
   ]
  },
  {
   "cell_type": "code",
   "execution_count": 36,
   "metadata": {},
   "outputs": [
    {
     "name": "stdout",
     "output_type": "stream",
     "text": [
      "<class 'pandas.core.frame.DataFrame'>\n",
      "RangeIndex: 90836 entries, 0 to 90835\n",
      "Data columns (total 10 columns):\n",
      " #   Column              Non-Null Count  Dtype  \n",
      "---  ------              --------------  -----  \n",
      " 0   id                  90836 non-null  int64  \n",
      " 1   name                90836 non-null  object \n",
      " 2   est_diameter_min    90836 non-null  float64\n",
      " 3   est_diameter_max    90836 non-null  float64\n",
      " 4   relative_velocity   90836 non-null  float64\n",
      " 5   miss_distance       90836 non-null  float64\n",
      " 6   orbiting_body       90836 non-null  object \n",
      " 7   sentry_object       90836 non-null  bool   \n",
      " 8   absolute_magnitude  90836 non-null  float64\n",
      " 9   hazardous           90836 non-null  bool   \n",
      "dtypes: bool(2), float64(5), int64(1), object(2)\n",
      "memory usage: 5.7+ MB\n"
     ]
    }
   ],
   "source": [
    "df.info()"
   ]
  },
  {
   "cell_type": "code",
   "execution_count": 37,
   "metadata": {},
   "outputs": [
    {
     "data": {
      "text/plain": [
       "hazardous\n",
       "False    81996\n",
       "True      8840\n",
       "Name: count, dtype: int64"
      ]
     },
     "execution_count": 37,
     "metadata": {},
     "output_type": "execute_result"
    }
   ],
   "source": [
    "df['hazardous'].value_counts()"
   ]
  },
  {
   "cell_type": "code",
   "execution_count": 38,
   "metadata": {},
   "outputs": [
    {
     "name": "stdout",
     "output_type": "stream",
     "text": [
      "<class 'pandas.core.frame.DataFrame'>\n",
      "RangeIndex: 90836 entries, 0 to 90835\n",
      "Data columns (total 10 columns):\n",
      " #   Column              Non-Null Count  Dtype  \n",
      "---  ------              --------------  -----  \n",
      " 0   id                  90836 non-null  int64  \n",
      " 1   name                90836 non-null  object \n",
      " 2   est_diameter_min    90836 non-null  float64\n",
      " 3   est_diameter_max    90836 non-null  float64\n",
      " 4   relative_velocity   90836 non-null  float64\n",
      " 5   miss_distance       90836 non-null  float64\n",
      " 6   orbiting_body       90836 non-null  object \n",
      " 7   sentry_object       90836 non-null  bool   \n",
      " 8   absolute_magnitude  90836 non-null  float64\n",
      " 9   hazardous           90836 non-null  bool   \n",
      "dtypes: bool(2), float64(5), int64(1), object(2)\n",
      "memory usage: 5.7+ MB\n"
     ]
    }
   ],
   "source": [
    "# df1.drop('sentry_object', axis=1, inplace=True)\n",
    "df1.info()"
   ]
  },
  {
   "cell_type": "code",
   "execution_count": 43,
   "metadata": {},
   "outputs": [
    {
     "name": "stdout",
     "output_type": "stream",
     "text": [
      "orbiting_body\n",
      "Earth    90836\n",
      "Name: count, dtype: int64\n",
      "\n",
      "sentry_object\n",
      "False    90836\n",
      "Name: count, dtype: int64\n",
      "\n",
      "hazardous\n",
      "False    81996\n",
      "True      8840\n",
      "Name: count, dtype: int64\n",
      "\n"
     ]
    }
   ],
   "source": [
    "for i in df.columns:\n",
    "    values = df[i].value_counts()\n",
    "    if len(values) < 10:\n",
    "        print(f\"{values}\", end='\\n\\n')\n"
   ]
  },
  {
   "cell_type": "code",
   "execution_count": 44,
   "metadata": {},
   "outputs": [],
   "source": [
    "df.drop(['orbiting_body', 'sentry_object'], axis=1, inplace=True)"
   ]
  },
  {
   "cell_type": "code",
   "execution_count": 46,
   "metadata": {},
   "outputs": [],
   "source": [
    "df.drop(['id', 'name'], axis=1, inplace=True)"
   ]
  },
  {
   "cell_type": "code",
   "execution_count": 47,
   "metadata": {},
   "outputs": [
    {
     "name": "stdout",
     "output_type": "stream",
     "text": [
      "<class 'pandas.core.frame.DataFrame'>\n",
      "RangeIndex: 90836 entries, 0 to 90835\n",
      "Data columns (total 6 columns):\n",
      " #   Column              Non-Null Count  Dtype  \n",
      "---  ------              --------------  -----  \n",
      " 0   est_diameter_min    90836 non-null  float64\n",
      " 1   est_diameter_max    90836 non-null  float64\n",
      " 2   relative_velocity   90836 non-null  float64\n",
      " 3   miss_distance       90836 non-null  float64\n",
      " 4   absolute_magnitude  90836 non-null  float64\n",
      " 5   hazardous           90836 non-null  bool   \n",
      "dtypes: bool(1), float64(5)\n",
      "memory usage: 3.6 MB\n",
      "None\n"
     ]
    }
   ],
   "source": [
    "print(df.info())"
   ]
  },
  {
   "cell_type": "code",
   "execution_count": 48,
   "metadata": {},
   "outputs": [
    {
     "name": "stdout",
     "output_type": "stream",
     "text": [
      "<class 'pandas.core.frame.DataFrame'>\n",
      "RangeIndex: 90836 entries, 0 to 90835\n",
      "Data columns (total 6 columns):\n",
      " #   Column              Non-Null Count  Dtype  \n",
      "---  ------              --------------  -----  \n",
      " 0   est_diameter_min    90836 non-null  float64\n",
      " 1   est_diameter_max    90836 non-null  float64\n",
      " 2   relative_velocity   90836 non-null  float64\n",
      " 3   miss_distance       90836 non-null  float64\n",
      " 4   absolute_magnitude  90836 non-null  float64\n",
      " 5   hazardous           90836 non-null  int64  \n",
      "dtypes: float64(5), int64(1)\n",
      "memory usage: 4.2 MB\n"
     ]
    }
   ],
   "source": [
    "from sklearn.preprocessing import LabelEncoder\n",
    "le = LabelEncoder()\n",
    "\n",
    "df['hazardous'] = le.fit_transform(df['hazardous'])\n",
    "\n",
    "df.info()"
   ]
  },
  {
   "cell_type": "code",
   "execution_count": 49,
   "metadata": {},
   "outputs": [],
   "source": [
    "df.to_csv('Final_datasets/ah_neo_v2.csv', index=False)\n",
    "del df"
   ]
  },
  {
   "cell_type": "markdown",
   "metadata": {},
   "source": [
    "#### Set 2"
   ]
  },
  {
   "cell_type": "code",
   "execution_count": 16,
   "metadata": {},
   "outputs": [
    {
     "name": "stdout",
     "output_type": "stream",
     "text": [
      "<class 'pandas.core.frame.DataFrame'>\n",
      "RangeIndex: 15635 entries, 0 to 15634\n",
      "Data columns (total 15 columns):\n",
      " #   Column                                    Non-Null Count  Dtype  \n",
      "---  ------                                    --------------  -----  \n",
      " 0   Object Name                               15635 non-null  object \n",
      " 1   Object Classification                     15635 non-null  object \n",
      " 2   Epoch (TDB)                               15635 non-null  int64  \n",
      " 3   Orbit Axis (AU)                           15635 non-null  float64\n",
      " 4   Orbit Eccentricity                        15635 non-null  float64\n",
      " 5   Orbit Inclination (deg)                   15635 non-null  float64\n",
      " 6   Perihelion Argument (deg)                 15635 non-null  float64\n",
      " 7   Node Longitude (deg)                      15635 non-null  float64\n",
      " 8   Mean Anomoly (deg)                        15635 non-null  float64\n",
      " 9   Perihelion Distance (AU)                  15635 non-null  float64\n",
      " 10  Aphelion Distance (AU)                    15635 non-null  float64\n",
      " 11  Orbital Period (yr)                       15635 non-null  float64\n",
      " 12  Minimum Orbit Intersection Distance (AU)  15635 non-null  float64\n",
      " 13  Orbital Reference                         15635 non-null  int64  \n",
      " 14  Asteroid Magnitude                        15634 non-null  float64\n",
      "dtypes: float64(11), int64(2), object(2)\n",
      "memory usage: 1.8+ MB\n",
      "None\n"
     ]
    }
   ],
   "source": [
    "df = pd.read_csv('datasets/ah_orbits.csv', engine='pyarrow')\n",
    "print(df.info())"
   ]
  },
  {
   "cell_type": "code",
   "execution_count": 17,
   "metadata": {},
   "outputs": [
    {
     "name": "stdout",
     "output_type": "stream",
     "text": [
      "Object classification values: \n",
      "Object Classification\n",
      "Apollo Asteroid              6940\n",
      "Amor Asteroid                5918\n",
      "Apollo Asteroid (Hazard)     1520\n",
      "Aten Asteroid                 987\n",
      "Aten Asteroid (Hazard)        155\n",
      "Amor Asteroid (Hazard)         99\n",
      "Apohele Asteroid               11\n",
      "Apohele Asteroid (Hazard)       5\n",
      "Name: count, dtype: int64\n"
     ]
    }
   ],
   "source": [
    "print(f\"Object classification values: \\n{df['Object Classification'].value_counts()}\")"
   ]
  },
  {
   "cell_type": "code",
   "execution_count": 18,
   "metadata": {},
   "outputs": [],
   "source": [
    "# Create new column \"PHA\" at the end\n",
    "df['PHA'] = 0\n",
    "\n",
    "# For each value in \"Object Classification\", if it contains \"Hazard\", change PHA to 1\n",
    "df.loc[df['Object Classification'].str.contains('Hazard'), 'PHA'] = 1"
   ]
  },
  {
   "cell_type": "code",
   "execution_count": 19,
   "metadata": {},
   "outputs": [],
   "source": [
    "df[\"Class\"] = 0"
   ]
  },
  {
   "cell_type": "code",
   "execution_count": 21,
   "metadata": {},
   "outputs": [
    {
     "name": "stdout",
     "output_type": "stream",
     "text": [
      "0      Amor\n",
      "1      Amor\n",
      "2      Amor\n",
      "3      Amor\n",
      "4      Amor\n",
      "5    Apollo\n",
      "6      Amor\n",
      "7    Apollo\n",
      "8      Amor\n",
      "9    Apollo\n",
      "Name: Class, dtype: object\n"
     ]
    }
   ],
   "source": [
    "df['Class'] = df['Object Classification'].apply(lambda x: x.split(' ')[0])\n",
    "print(df['Class'].head(10))"
   ]
  },
  {
   "cell_type": "code",
   "execution_count": 22,
   "metadata": {},
   "outputs": [],
   "source": [
    "from sklearn.preprocessing import LabelEncoder\n",
    "\n",
    "le = LabelEncoder()\n",
    "df['Class'] = le.fit_transform(df['Class'])"
   ]
  },
  {
   "cell_type": "code",
   "execution_count": 28,
   "metadata": {},
   "outputs": [
    {
     "name": "stdout",
     "output_type": "stream",
     "text": [
      "Class\n",
      "2        8460\n",
      "0        6017\n",
      "3        1142\n",
      "1          16\n",
      "Name: count, dtype: int64\n"
     ]
    }
   ],
   "source": [
    "print(df[['Class']].value_counts())"
   ]
  },
  {
   "cell_type": "code",
   "execution_count": 29,
   "metadata": {},
   "outputs": [],
   "source": [
    "df = df.drop_duplicates(inplace=False).dropna(axis=0)"
   ]
  },
  {
   "cell_type": "code",
   "execution_count": 31,
   "metadata": {},
   "outputs": [
    {
     "name": "stdout",
     "output_type": "stream",
     "text": [
      "<class 'pandas.core.frame.DataFrame'>\n",
      "RangeIndex: 15635 entries, 0 to 15634\n",
      "Data columns (total 17 columns):\n",
      " #   Column                                    Non-Null Count  Dtype  \n",
      "---  ------                                    --------------  -----  \n",
      " 0   Object Name                               15635 non-null  object \n",
      " 1   Object Classification                     15635 non-null  object \n",
      " 2   Epoch (TDB)                               15635 non-null  int64  \n",
      " 3   Orbit Axis (AU)                           15635 non-null  float64\n",
      " 4   Orbit Eccentricity                        15635 non-null  float64\n",
      " 5   Orbit Inclination (deg)                   15635 non-null  float64\n",
      " 6   Perihelion Argument (deg)                 15635 non-null  float64\n",
      " 7   Node Longitude (deg)                      15635 non-null  float64\n",
      " 8   Mean Anomoly (deg)                        15635 non-null  float64\n",
      " 9   Perihelion Distance (AU)                  15635 non-null  float64\n",
      " 10  Aphelion Distance (AU)                    15635 non-null  float64\n",
      " 11  Orbital Period (yr)                       15635 non-null  float64\n",
      " 12  Minimum Orbit Intersection Distance (AU)  15635 non-null  float64\n",
      " 13  Orbital Reference                         15635 non-null  int64  \n",
      " 14  Asteroid Magnitude                        15634 non-null  float64\n",
      " 15  PHA                                       15635 non-null  int64  \n",
      " 16  Class                                     15635 non-null  int32  \n",
      "dtypes: float64(11), int32(1), int64(3), object(2)\n",
      "memory usage: 2.0+ MB\n",
      "None\n"
     ]
    }
   ],
   "source": [
    "print(df.info())"
   ]
  },
  {
   "cell_type": "code",
   "execution_count": 32,
   "metadata": {},
   "outputs": [
    {
     "name": "stdout",
     "output_type": "stream",
     "text": [
      "<class 'pandas.core.frame.DataFrame'>\n",
      "RangeIndex: 15635 entries, 0 to 15634\n",
      "Data columns (total 16 columns):\n",
      " #   Column                                    Non-Null Count  Dtype  \n",
      "---  ------                                    --------------  -----  \n",
      " 0   Object Name                               15635 non-null  object \n",
      " 1   Epoch (TDB)                               15635 non-null  int64  \n",
      " 2   Orbit Axis (AU)                           15635 non-null  float64\n",
      " 3   Orbit Eccentricity                        15635 non-null  float64\n",
      " 4   Orbit Inclination (deg)                   15635 non-null  float64\n",
      " 5   Perihelion Argument (deg)                 15635 non-null  float64\n",
      " 6   Node Longitude (deg)                      15635 non-null  float64\n",
      " 7   Mean Anomoly (deg)                        15635 non-null  float64\n",
      " 8   Perihelion Distance (AU)                  15635 non-null  float64\n",
      " 9   Aphelion Distance (AU)                    15635 non-null  float64\n",
      " 10  Orbital Period (yr)                       15635 non-null  float64\n",
      " 11  Minimum Orbit Intersection Distance (AU)  15635 non-null  float64\n",
      " 12  Orbital Reference                         15635 non-null  int64  \n",
      " 13  Asteroid Magnitude                        15634 non-null  float64\n",
      " 14  PHA                                       15635 non-null  int64  \n",
      " 15  Class                                     15635 non-null  int32  \n",
      "dtypes: float64(11), int32(1), int64(3), object(1)\n",
      "memory usage: 1.8+ MB\n"
     ]
    }
   ],
   "source": [
    "df.drop(['Object Classification'], axis=1, inplace=True)\n",
    "df.info()"
   ]
  },
  {
   "cell_type": "code",
   "execution_count": 33,
   "metadata": {},
   "outputs": [],
   "source": [
    "df.to_csv('Final_datasets/ah_orbits.csv', index=False)"
   ]
  },
  {
   "cell_type": "markdown",
   "metadata": {},
   "source": [
    "#### Set 3"
   ]
  },
  {
   "cell_type": "code",
   "execution_count": 47,
   "metadata": {},
   "outputs": [
    {
     "name": "stdout",
     "output_type": "stream",
     "text": [
      "<class 'pandas.core.frame.DataFrame'>\n",
      "RangeIndex: 15635 entries, 0 to 15634\n",
      "Data columns (total 16 columns):\n",
      " #   Column                                    Non-Null Count  Dtype  \n",
      "---  ------                                    --------------  -----  \n",
      " 0   Object Name                               15635 non-null  object \n",
      " 1   Epoch (TDB)                               15635 non-null  int64  \n",
      " 2   Orbit Axis (AU)                           15635 non-null  float64\n",
      " 3   Orbit Eccentricity                        15635 non-null  float64\n",
      " 4   Orbit Inclination (deg)                   15635 non-null  float64\n",
      " 5   Perihelion Argument (deg)                 15635 non-null  float64\n",
      " 6   Node Longitude (deg)                      15635 non-null  float64\n",
      " 7   Mean Anomoly (deg)                        15635 non-null  float64\n",
      " 8   Perihelion Distance (AU)                  15635 non-null  float64\n",
      " 9   Aphelion Distance (AU)                    15635 non-null  float64\n",
      " 10  Orbital Period (yr)                       15635 non-null  float64\n",
      " 11  Minimum Orbit Intersection Distance (AU)  15635 non-null  float64\n",
      " 12  Orbital Reference                         15635 non-null  int64  \n",
      " 13  Asteroid Magnitude                        15634 non-null  float64\n",
      " 14  Classification                            15635 non-null  object \n",
      " 15  Hazardous                                 15635 non-null  bool   \n",
      "dtypes: bool(1), float64(11), int64(2), object(2)\n",
      "memory usage: 1.8+ MB\n",
      "None\n"
     ]
    }
   ],
   "source": [
    "df1 = pd.read_csv('datasets/ai_orbits_-_orbits.csv', engine='pyarrow')\n",
    "print(df1.info())"
   ]
  },
  {
   "cell_type": "code",
   "execution_count": 48,
   "metadata": {},
   "outputs": [
    {
     "name": "stdout",
     "output_type": "stream",
     "text": [
      "Classification\n",
      "Apollo     8460\n",
      "Amor       6017\n",
      "Aten       1142\n",
      "Apohele      16\n",
      "Name: count, dtype: int64\n",
      "Hazardous\n",
      "0    13856\n",
      "1     1779\n",
      "Name: count, dtype: int64\n"
     ]
    }
   ],
   "source": [
    "from sklearn.preprocessing import LabelEncoder\n",
    "\n",
    "df1[\"Classification\"] = df1[\"Classification\"].apply(lambda x: x.split(' ')[0])\n",
    "print(df1[\"Classification\"].value_counts())\n",
    "\n",
    "le = LabelEncoder()\n",
    "df1[\"Classification\"] = le.fit_transform(df1[\"Classification\"])\n",
    "del le\n",
    "\n",
    "le = LabelEncoder()\n",
    "df1[\"Hazardous\"] = le.fit_transform(df1[\"Hazardous\"])\n",
    "print(df1[\"Hazardous\"].value_counts())"
   ]
  },
  {
   "cell_type": "code",
   "execution_count": 57,
   "metadata": {},
   "outputs": [],
   "source": [
    "df1.to_csv('Final_datasets/ai_orbits_-_orbits.csv', index=False)"
   ]
  },
  {
   "cell_type": "markdown",
   "metadata": {},
   "source": [
    "#### Set 4"
   ]
  },
  {
   "cell_type": "code",
   "execution_count": 61,
   "metadata": {},
   "outputs": [],
   "source": [
    "df1 = pd.read_csv('datasets/ae_NASA_Near-Earth_Objects.csv', engine='pyarrow')"
   ]
  },
  {
   "cell_type": "code",
   "execution_count": 62,
   "metadata": {},
   "outputs": [
    {
     "name": "stdout",
     "output_type": "stream",
     "text": [
      "<class 'pandas.core.frame.DataFrame'>\n",
      "RangeIndex: 24000 entries, 0 to 23999\n",
      "Data columns (total 18 columns):\n",
      " #   Column                             Non-Null Count  Dtype  \n",
      "---  ------                             --------------  -----  \n",
      " 0                                      24000 non-null  int64  \n",
      " 1   id                                 24000 non-null  int64  \n",
      " 2   neo_reference_id                   24000 non-null  int64  \n",
      " 3   name                               24000 non-null  object \n",
      " 4   name_limited                       24000 non-null  object \n",
      " 5   designation                        24000 non-null  object \n",
      " 6   absolute_magnitude_h               23992 non-null  float64\n",
      " 7   is_potentially_hazardous_asteroid  24000 non-null  bool   \n",
      " 8   is_sentry_object                   24000 non-null  bool   \n",
      " 9   kilometers_estimated_diameter_min  23992 non-null  float64\n",
      " 10  kilometers_estimated_diameter_max  23992 non-null  float64\n",
      " 11  orbit_id                           24000 non-null  object \n",
      " 12  orbit_class_type                   24000 non-null  object \n",
      " 13  perihelion_distance                24000 non-null  float64\n",
      " 14  aphelion_distance                  24000 non-null  float64\n",
      " 15  first_observation_date             24000 non-null  object \n",
      " 16  last_observation_date              24000 non-null  object \n",
      " 17  orbit_class_description            24000 non-null  object \n",
      "dtypes: bool(2), float64(5), int64(3), object(8)\n",
      "memory usage: 3.0+ MB\n"
     ]
    }
   ],
   "source": [
    "df1.info()"
   ]
  },
  {
   "cell_type": "code",
   "execution_count": 65,
   "metadata": {},
   "outputs": [],
   "source": [
    "df1['pha'] = 0\n",
    "df1['neo'] = 0"
   ]
  },
  {
   "cell_type": "code",
   "execution_count": 66,
   "metadata": {},
   "outputs": [],
   "source": [
    "df1['pha'] = df1['is_potentially_hazardous_asteroid'].apply(lambda x: 1 if x == True else 0)\n",
    "df1['neo'] = df1['orbit_class_description'].apply(lambda x: x.split(' ')[-1])"
   ]
  },
  {
   "cell_type": "code",
   "execution_count": 70,
   "metadata": {},
   "outputs": [],
   "source": [
    "df1['neo'] = df1['neo'].apply(lambda x: 'IEO' if x == 'Object' else x)"
   ]
  },
  {
   "cell_type": "code",
   "execution_count": 71,
   "metadata": {},
   "outputs": [
    {
     "data": {
      "text/plain": [
       "neo\n",
       "Apollo    13245\n",
       "Amor       8921\n",
       "Aten       1812\n",
       "IEO          22\n",
       "Name: count, dtype: int64"
      ]
     },
     "execution_count": 71,
     "metadata": {},
     "output_type": "execute_result"
    }
   ],
   "source": [
    "df1['neo'].value_counts()"
   ]
  },
  {
   "cell_type": "code",
   "execution_count": 73,
   "metadata": {},
   "outputs": [],
   "source": [
    "# df1.to_csv('Final_datasets/ae_NASA_Near-Earth_Objects.csv', index=False)\n",
    "del df1"
   ]
  },
  {
   "cell_type": "markdown",
   "metadata": {},
   "source": [
    "#### Set 5"
   ]
  },
  {
   "cell_type": "code",
   "execution_count": 74,
   "metadata": {},
   "outputs": [],
   "source": [
    "df1 = pd.read_csv('datasets/ab_Asteroid_Updated.csv', engine='pyarrow')"
   ]
  },
  {
   "cell_type": "code",
   "execution_count": 75,
   "metadata": {},
   "outputs": [
    {
     "name": "stdout",
     "output_type": "stream",
     "text": [
      "<class 'pandas.core.frame.DataFrame'>\n",
      "RangeIndex: 839714 entries, 0 to 839713\n",
      "Data columns (total 31 columns):\n",
      " #   Column          Non-Null Count   Dtype  \n",
      "---  ------          --------------   -----  \n",
      " 0   name            839714 non-null  object \n",
      " 1   a               839712 non-null  float64\n",
      " 2   e               839714 non-null  float64\n",
      " 3   i               839714 non-null  float64\n",
      " 4   om              839714 non-null  float64\n",
      " 5   w               839714 non-null  float64\n",
      " 6   q               839714 non-null  float64\n",
      " 7   ad              839708 non-null  float64\n",
      " 8   per_y           839713 non-null  float64\n",
      " 9   data_arc        824240 non-null  float64\n",
      " 10  condition_code  839714 non-null  object \n",
      " 11  n_obs_used      839714 non-null  int64  \n",
      " 12  H               837025 non-null  float64\n",
      " 13  neo             839714 non-null  object \n",
      " 14  pha             839714 non-null  object \n",
      " 15  diameter        839714 non-null  object \n",
      " 16  extent          839714 non-null  object \n",
      " 17  albedo          136409 non-null  float64\n",
      " 18  rot_per         18796 non-null   float64\n",
      " 19  GM              14 non-null      float64\n",
      " 20  BV              1021 non-null    float64\n",
      " 21  UB              979 non-null     float64\n",
      " 22  IR              1 non-null       float64\n",
      " 23  spec_B          839714 non-null  object \n",
      " 24  spec_T          839714 non-null  object \n",
      " 25  G               119 non-null     float64\n",
      " 26  moid            823272 non-null  float64\n",
      " 27  class           839714 non-null  object \n",
      " 28  n               839712 non-null  float64\n",
      " 29  per             839708 non-null  float64\n",
      " 30  ma              839706 non-null  float64\n",
      "dtypes: float64(21), int64(1), object(9)\n",
      "memory usage: 198.6+ MB\n",
      "None\n"
     ]
    }
   ],
   "source": [
    "print(df1.info())"
   ]
  },
  {
   "cell_type": "code",
   "execution_count": 76,
   "metadata": {},
   "outputs": [
    {
     "name": "stdout",
     "output_type": "stream",
     "text": [
      "neo:\n",
      "neo\n",
      "N    818308\n",
      "Y     21400\n",
      "          6\n",
      "Name: count, dtype: int64\n",
      "\n",
      "pha:\n",
      "pha\n",
      "N    821257\n",
      "      16442\n",
      "Y      2015\n",
      "Name: count, dtype: int64\n",
      "\n",
      "class:\n",
      "class\n",
      "MBA    747420\n",
      "OMB     24715\n",
      "IMB     17552\n",
      "MCA     17354\n",
      "APO     11759\n",
      "AMO      8020\n",
      "TJN      7385\n",
      "TNO      3310\n",
      "ATE      1601\n",
      "CEN       488\n",
      "AST        84\n",
      "IEO        20\n",
      "HYA         4\n",
      "PAA         2\n",
      "Name: count, dtype: int64\n",
      "\n"
     ]
    }
   ],
   "source": [
    "for i in ['neo', 'pha', 'class']:\n",
    "    print(f\"{i}:\\n{df1[i].value_counts()}\\n\")"
   ]
  },
  {
   "cell_type": "code",
   "execution_count": 79,
   "metadata": {},
   "outputs": [],
   "source": [
    "df1.drop_duplicates(inplace=False).dropna(axis=1, inplace=True, thresh=(len(df1) * 0.8))"
   ]
  },
  {
   "cell_type": "code",
   "execution_count": 80,
   "metadata": {},
   "outputs": [
    {
     "name": "stdout",
     "output_type": "stream",
     "text": [
      "<class 'pandas.core.frame.DataFrame'>\n",
      "RangeIndex: 839714 entries, 0 to 839713\n",
      "Data columns (total 31 columns):\n",
      " #   Column          Non-Null Count   Dtype  \n",
      "---  ------          --------------   -----  \n",
      " 0   name            839714 non-null  object \n",
      " 1   a               839712 non-null  float64\n",
      " 2   e               839714 non-null  float64\n",
      " 3   i               839714 non-null  float64\n",
      " 4   om              839714 non-null  float64\n",
      " 5   w               839714 non-null  float64\n",
      " 6   q               839714 non-null  float64\n",
      " 7   ad              839708 non-null  float64\n",
      " 8   per_y           839713 non-null  float64\n",
      " 9   data_arc        824240 non-null  float64\n",
      " 10  condition_code  839714 non-null  object \n",
      " 11  n_obs_used      839714 non-null  int64  \n",
      " 12  H               837025 non-null  float64\n",
      " 13  neo             839714 non-null  object \n",
      " 14  pha             839714 non-null  object \n",
      " 15  diameter        839714 non-null  object \n",
      " 16  extent          839714 non-null  object \n",
      " 17  albedo          136409 non-null  float64\n",
      " 18  rot_per         18796 non-null   float64\n",
      " 19  GM              14 non-null      float64\n",
      " 20  BV              1021 non-null    float64\n",
      " 21  UB              979 non-null     float64\n",
      " 22  IR              1 non-null       float64\n",
      " 23  spec_B          839714 non-null  object \n",
      " 24  spec_T          839714 non-null  object \n",
      " 25  G               119 non-null     float64\n",
      " 26  moid            823272 non-null  float64\n",
      " 27  class           839714 non-null  object \n",
      " 28  n               839712 non-null  float64\n",
      " 29  per             839708 non-null  float64\n",
      " 30  ma              839706 non-null  float64\n",
      "dtypes: float64(21), int64(1), object(9)\n",
      "memory usage: 198.6+ MB\n"
     ]
    }
   ],
   "source": [
    "df1.info()"
   ]
  },
  {
   "cell_type": "code",
   "execution_count": 81,
   "metadata": {},
   "outputs": [
    {
     "name": "stdout",
     "output_type": "stream",
     "text": [
      "<class 'pandas.core.frame.DataFrame'>\n",
      "RangeIndex: 839714 entries, 0 to 839713\n",
      "Data columns (total 24 columns):\n",
      " #   Column          Non-Null Count   Dtype  \n",
      "---  ------          --------------   -----  \n",
      " 0   name            839714 non-null  object \n",
      " 1   a               839712 non-null  float64\n",
      " 2   e               839714 non-null  float64\n",
      " 3   i               839714 non-null  float64\n",
      " 4   om              839714 non-null  float64\n",
      " 5   w               839714 non-null  float64\n",
      " 6   q               839714 non-null  float64\n",
      " 7   ad              839708 non-null  float64\n",
      " 8   per_y           839713 non-null  float64\n",
      " 9   data_arc        824240 non-null  float64\n",
      " 10  condition_code  839714 non-null  object \n",
      " 11  n_obs_used      839714 non-null  int64  \n",
      " 12  H               837025 non-null  float64\n",
      " 13  neo             839714 non-null  object \n",
      " 14  pha             839714 non-null  object \n",
      " 15  diameter        839714 non-null  object \n",
      " 16  extent          839714 non-null  object \n",
      " 17  spec_B          839714 non-null  object \n",
      " 18  spec_T          839714 non-null  object \n",
      " 19  moid            823272 non-null  float64\n",
      " 20  class           839714 non-null  object \n",
      " 21  n               839712 non-null  float64\n",
      " 22  per             839708 non-null  float64\n",
      " 23  ma              839706 non-null  float64\n",
      "dtypes: float64(14), int64(1), object(9)\n",
      "memory usage: 153.8+ MB\n",
      "None\n"
     ]
    }
   ],
   "source": [
    "# Drop columns if null value percentage is more than 30%\n",
    "for i in df1.columns:\n",
    "    if df1[i].isnull().sum() > 0.3 * len(df1):\n",
    "        df1.drop(i, axis=1, inplace=True)\n",
    "\n",
    "print(df1.info())"
   ]
  },
  {
   "cell_type": "code",
   "execution_count": 82,
   "metadata": {},
   "outputs": [],
   "source": [
    "# Drop any rows with any empty values\n",
    "df1.dropna(axis=0, inplace=True)"
   ]
  },
  {
   "cell_type": "code",
   "execution_count": 83,
   "metadata": {},
   "outputs": [
    {
     "name": "stdout",
     "output_type": "stream",
     "text": [
      "<class 'pandas.core.frame.DataFrame'>\n",
      "Index: 820174 entries, 0 to 839713\n",
      "Data columns (total 24 columns):\n",
      " #   Column          Non-Null Count   Dtype  \n",
      "---  ------          --------------   -----  \n",
      " 0   name            820174 non-null  object \n",
      " 1   a               820174 non-null  float64\n",
      " 2   e               820174 non-null  float64\n",
      " 3   i               820174 non-null  float64\n",
      " 4   om              820174 non-null  float64\n",
      " 5   w               820174 non-null  float64\n",
      " 6   q               820174 non-null  float64\n",
      " 7   ad              820174 non-null  float64\n",
      " 8   per_y           820174 non-null  float64\n",
      " 9   data_arc        820174 non-null  float64\n",
      " 10  condition_code  820174 non-null  object \n",
      " 11  n_obs_used      820174 non-null  int64  \n",
      " 12  H               820174 non-null  float64\n",
      " 13  neo             820174 non-null  object \n",
      " 14  pha             820174 non-null  object \n",
      " 15  diameter        820174 non-null  object \n",
      " 16  extent          820174 non-null  object \n",
      " 17  spec_B          820174 non-null  object \n",
      " 18  spec_T          820174 non-null  object \n",
      " 19  moid            820174 non-null  float64\n",
      " 20  class           820174 non-null  object \n",
      " 21  n               820174 non-null  float64\n",
      " 22  per             820174 non-null  float64\n",
      " 23  ma              820174 non-null  float64\n",
      "dtypes: float64(14), int64(1), object(9)\n",
      "memory usage: 156.4+ MB\n"
     ]
    }
   ],
   "source": [
    "df1.info()"
   ]
  },
  {
   "cell_type": "code",
   "execution_count": 86,
   "metadata": {},
   "outputs": [
    {
     "name": "stdout",
     "output_type": "stream",
     "text": [
      "<class 'pandas.core.frame.DataFrame'>\n",
      "Index: 820174 entries, 0 to 839713\n",
      "Data columns (total 24 columns):\n",
      " #   Column          Non-Null Count   Dtype  \n",
      "---  ------          --------------   -----  \n",
      " 0   name            820174 non-null  object \n",
      " 1   a               820174 non-null  float64\n",
      " 2   e               820174 non-null  float64\n",
      " 3   i               820174 non-null  float64\n",
      " 4   om              820174 non-null  float64\n",
      " 5   w               820174 non-null  float64\n",
      " 6   q               820174 non-null  float64\n",
      " 7   ad              820174 non-null  float64\n",
      " 8   per_y           820174 non-null  float64\n",
      " 9   data_arc        820174 non-null  float64\n",
      " 10  condition_code  820174 non-null  object \n",
      " 11  n_obs_used      820174 non-null  int64  \n",
      " 12  H               820174 non-null  float64\n",
      " 13  diameter        820174 non-null  object \n",
      " 14  extent          820174 non-null  object \n",
      " 15  spec_B          820174 non-null  object \n",
      " 16  spec_T          820174 non-null  object \n",
      " 17  moid            820174 non-null  float64\n",
      " 18  n               820174 non-null  float64\n",
      " 19  per             820174 non-null  float64\n",
      " 20  ma              820174 non-null  float64\n",
      " 21  neo             820174 non-null  object \n",
      " 22  pha             820174 non-null  object \n",
      " 23  class           820174 non-null  object \n",
      "dtypes: float64(14), int64(1), object(9)\n",
      "memory usage: 156.4+ MB\n",
      "None\n"
     ]
    }
   ],
   "source": [
    "df1 = pd.concat((df1.drop(['neo', 'pha', 'class'], axis=1, inplace=False), df1[['neo', 'pha', 'class']]), axis=1)\n",
    "print(df1.info())"
   ]
  },
  {
   "cell_type": "code",
   "execution_count": 87,
   "metadata": {},
   "outputs": [
    {
     "name": "stdout",
     "output_type": "stream",
     "text": [
      "neo:\n",
      "neo\n",
      "N    798975\n",
      "Y     21199\n",
      "Name: count, dtype: int64\n",
      "\n",
      "pha:\n",
      "pha\n",
      "N    818161\n",
      "Y      2013\n",
      "Name: count, dtype: int64\n",
      "\n",
      "class:\n",
      "class\n",
      "MBA    730093\n",
      "OMB     23786\n",
      "IMB     17211\n",
      "MCA     16728\n",
      "APO     11598\n",
      "AMO      7996\n",
      "TJN      7303\n",
      "TNO      3298\n",
      "ATE      1585\n",
      "CEN       479\n",
      "AST        77\n",
      "IEO        20\n",
      "Name: count, dtype: int64\n",
      "\n"
     ]
    }
   ],
   "source": [
    "for i in ['neo', 'pha', 'class']:\n",
    "    print(f\"{i}:\\n{df1[i].value_counts()}\\n\")"
   ]
  },
  {
   "cell_type": "code",
   "execution_count": 88,
   "metadata": {},
   "outputs": [],
   "source": [
    "df1.to_csv('Final_datasets/ab_Asteroid_Updated.csv', index=False)"
   ]
  },
  {
   "cell_type": "code",
   "execution_count": 89,
   "metadata": {},
   "outputs": [],
   "source": [
    "del df1"
   ]
  },
  {
   "cell_type": "markdown",
   "metadata": {},
   "source": [
    "#### Set 6"
   ]
  },
  {
   "cell_type": "code",
   "execution_count": 15,
   "metadata": {},
   "outputs": [
    {
     "name": "stdout",
     "output_type": "stream",
     "text": [
      "<class 'pandas.core.frame.DataFrame'>\n",
      "RangeIndex: 4687 entries, 0 to 4686\n",
      "Data columns (total 40 columns):\n",
      " #   Column                        Non-Null Count  Dtype        \n",
      "---  ------                        --------------  -----        \n",
      " 0   Neo Reference ID              4687 non-null   int64        \n",
      " 1   Name                          4687 non-null   int64        \n",
      " 2   Absolute Magnitude            4687 non-null   float64      \n",
      " 3   Est Dia in KM(min)            4687 non-null   float64      \n",
      " 4   Est Dia in KM(max)            4687 non-null   float64      \n",
      " 5   Est Dia in M(min)             4687 non-null   float64      \n",
      " 6   Est Dia in M(max)             4687 non-null   float64      \n",
      " 7   Est Dia in Miles(min)         4687 non-null   float64      \n",
      " 8   Est Dia in Miles(max)         4687 non-null   float64      \n",
      " 9   Est Dia in Feet(min)          4687 non-null   float64      \n",
      " 10  Est Dia in Feet(max)          4687 non-null   float64      \n",
      " 11  Close Approach Date           4687 non-null   object       \n",
      " 12  Epoch Date Close Approach     4687 non-null   int64        \n",
      " 13  Relative Velocity km per sec  4687 non-null   float64      \n",
      " 14  Relative Velocity km per hr   4687 non-null   float64      \n",
      " 15  Miles per hour                4687 non-null   float64      \n",
      " 16  Miss Dist.(Astronomical)      4687 non-null   float64      \n",
      " 17  Miss Dist.(lunar)             4687 non-null   float64      \n",
      " 18  Miss Dist.(kilometers)        4687 non-null   float64      \n",
      " 19  Miss Dist.(miles)             4687 non-null   float64      \n",
      " 20  Orbiting Body                 4687 non-null   object       \n",
      " 21  Orbit ID                      4687 non-null   int64        \n",
      " 22  Orbit Determination Date      4687 non-null   datetime64[s]\n",
      " 23  Orbit Uncertainity            4687 non-null   int64        \n",
      " 24  Minimum Orbit Intersection    4687 non-null   float64      \n",
      " 25  Jupiter Tisserand Invariant   4687 non-null   float64      \n",
      " 26  Epoch Osculation              4687 non-null   float64      \n",
      " 27  Eccentricity                  4687 non-null   float64      \n",
      " 28  Semi Major Axis               4687 non-null   float64      \n",
      " 29  Inclination                   4687 non-null   float64      \n",
      " 30  Asc Node Longitude            4687 non-null   float64      \n",
      " 31  Orbital Period                4687 non-null   float64      \n",
      " 32  Perihelion Distance           4687 non-null   float64      \n",
      " 33  Perihelion Arg                4687 non-null   float64      \n",
      " 34  Aphelion Dist                 4687 non-null   float64      \n",
      " 35  Perihelion Time               4687 non-null   float64      \n",
      " 36  Mean Anomaly                  4687 non-null   float64      \n",
      " 37  Mean Motion                   4687 non-null   float64      \n",
      " 38  Equinox                       4687 non-null   object       \n",
      " 39  Hazardous                     4687 non-null   bool         \n",
      "dtypes: bool(1), datetime64[s](1), float64(30), int64(5), object(3)\n",
      "memory usage: 1.4+ MB\n"
     ]
    }
   ],
   "source": [
    "df1 = pd.read_csv('datasets/ad_nasa.csv', engine='pyarrow')\n",
    "df1.info()"
   ]
  },
  {
   "cell_type": "code",
   "execution_count": 16,
   "metadata": {},
   "outputs": [
    {
     "name": "stdout",
     "output_type": "stream",
     "text": [
      "Close Approach Date:\n",
      "Close Approach Date\n",
      "2016-07-22    18\n",
      "2015-01-15    17\n",
      "2015-02-15    16\n",
      "2012-03-15    16\n",
      "2014-11-22    16\n",
      "              ..\n",
      "2000-05-08     1\n",
      "1999-05-15     1\n",
      "1998-09-15     1\n",
      "1999-04-22     1\n",
      "2001-06-22     1\n",
      "Name: count, Length: 777, dtype: int64\n",
      "\n",
      "Orbiting Body:\n",
      "Orbiting Body\n",
      "Earth    4687\n",
      "Name: count, dtype: int64\n",
      "\n",
      "Equinox:\n",
      "Equinox\n",
      "J2000    4687\n",
      "Name: count, dtype: int64\n",
      "\n"
     ]
    }
   ],
   "source": [
    "for column in df1.columns:\n",
    "    # Type is object\n",
    "    if df1[column].dtype == 'object':\n",
    "        print(f\"{column}:\\n{df1[column].value_counts()}\\n\")"
   ]
  },
  {
   "cell_type": "code",
   "execution_count": 22,
   "metadata": {},
   "outputs": [
    {
     "ename": "KeyError",
     "evalue": "\"['Equinox', 'Orbiting Body'] not found in axis\"",
     "output_type": "error",
     "traceback": [
      "\u001b[1;31m---------------------------------------------------------------------------\u001b[0m",
      "\u001b[1;31mKeyError\u001b[0m                                  Traceback (most recent call last)",
      "\u001b[1;32mc:\\Users\\hifia\\Projects\\ML Semester project\\compare_csvs.ipynb Cell 81\u001b[0m line \u001b[0;36m2\n\u001b[0;32m      <a href='vscode-notebook-cell:/c%3A/Users/hifia/Projects/ML%20Semester%20project/compare_csvs.ipynb#Y143sZmlsZQ%3D%3D?line=0'>1</a>\u001b[0m \u001b[39m# Drop Equinox and orbiting body\u001b[39;00m\n\u001b[1;32m----> <a href='vscode-notebook-cell:/c%3A/Users/hifia/Projects/ML%20Semester%20project/compare_csvs.ipynb#Y143sZmlsZQ%3D%3D?line=1'>2</a>\u001b[0m df1\u001b[39m.\u001b[39;49mdrop([\u001b[39m'\u001b[39;49m\u001b[39mEquinox\u001b[39;49m\u001b[39m'\u001b[39;49m, \u001b[39m'\u001b[39;49m\u001b[39mOrbiting Body\u001b[39;49m\u001b[39m'\u001b[39;49m], axis\u001b[39m=\u001b[39;49m\u001b[39m1\u001b[39;49m, inplace\u001b[39m=\u001b[39;49m\u001b[39mTrue\u001b[39;49;00m)\n",
      "File \u001b[1;32mc:\\Users\\hifia\\anaconda3\\envs\\ML_Project\\lib\\site-packages\\pandas\\core\\frame.py:5258\u001b[0m, in \u001b[0;36mDataFrame.drop\u001b[1;34m(self, labels, axis, index, columns, level, inplace, errors)\u001b[0m\n\u001b[0;32m   5110\u001b[0m \u001b[39mdef\u001b[39;00m \u001b[39mdrop\u001b[39m(\n\u001b[0;32m   5111\u001b[0m     \u001b[39mself\u001b[39m,\n\u001b[0;32m   5112\u001b[0m     labels: IndexLabel \u001b[39m=\u001b[39m \u001b[39mNone\u001b[39;00m,\n\u001b[1;32m   (...)\u001b[0m\n\u001b[0;32m   5119\u001b[0m     errors: IgnoreRaise \u001b[39m=\u001b[39m \u001b[39m\"\u001b[39m\u001b[39mraise\u001b[39m\u001b[39m\"\u001b[39m,\n\u001b[0;32m   5120\u001b[0m ) \u001b[39m-\u001b[39m\u001b[39m>\u001b[39m DataFrame \u001b[39m|\u001b[39m \u001b[39mNone\u001b[39;00m:\n\u001b[0;32m   5121\u001b[0m \u001b[39m    \u001b[39m\u001b[39m\"\"\"\u001b[39;00m\n\u001b[0;32m   5122\u001b[0m \u001b[39m    Drop specified labels from rows or columns.\u001b[39;00m\n\u001b[0;32m   5123\u001b[0m \n\u001b[1;32m   (...)\u001b[0m\n\u001b[0;32m   5256\u001b[0m \u001b[39m            weight  1.0     0.8\u001b[39;00m\n\u001b[0;32m   5257\u001b[0m \u001b[39m    \"\"\"\u001b[39;00m\n\u001b[1;32m-> 5258\u001b[0m     \u001b[39mreturn\u001b[39;00m \u001b[39msuper\u001b[39;49m()\u001b[39m.\u001b[39;49mdrop(\n\u001b[0;32m   5259\u001b[0m         labels\u001b[39m=\u001b[39;49mlabels,\n\u001b[0;32m   5260\u001b[0m         axis\u001b[39m=\u001b[39;49maxis,\n\u001b[0;32m   5261\u001b[0m         index\u001b[39m=\u001b[39;49mindex,\n\u001b[0;32m   5262\u001b[0m         columns\u001b[39m=\u001b[39;49mcolumns,\n\u001b[0;32m   5263\u001b[0m         level\u001b[39m=\u001b[39;49mlevel,\n\u001b[0;32m   5264\u001b[0m         inplace\u001b[39m=\u001b[39;49minplace,\n\u001b[0;32m   5265\u001b[0m         errors\u001b[39m=\u001b[39;49merrors,\n\u001b[0;32m   5266\u001b[0m     )\n",
      "File \u001b[1;32mc:\\Users\\hifia\\anaconda3\\envs\\ML_Project\\lib\\site-packages\\pandas\\core\\generic.py:4549\u001b[0m, in \u001b[0;36mNDFrame.drop\u001b[1;34m(self, labels, axis, index, columns, level, inplace, errors)\u001b[0m\n\u001b[0;32m   4547\u001b[0m \u001b[39mfor\u001b[39;00m axis, labels \u001b[39min\u001b[39;00m axes\u001b[39m.\u001b[39mitems():\n\u001b[0;32m   4548\u001b[0m     \u001b[39mif\u001b[39;00m labels \u001b[39mis\u001b[39;00m \u001b[39mnot\u001b[39;00m \u001b[39mNone\u001b[39;00m:\n\u001b[1;32m-> 4549\u001b[0m         obj \u001b[39m=\u001b[39m obj\u001b[39m.\u001b[39;49m_drop_axis(labels, axis, level\u001b[39m=\u001b[39;49mlevel, errors\u001b[39m=\u001b[39;49merrors)\n\u001b[0;32m   4551\u001b[0m \u001b[39mif\u001b[39;00m inplace:\n\u001b[0;32m   4552\u001b[0m     \u001b[39mself\u001b[39m\u001b[39m.\u001b[39m_update_inplace(obj)\n",
      "File \u001b[1;32mc:\\Users\\hifia\\anaconda3\\envs\\ML_Project\\lib\\site-packages\\pandas\\core\\generic.py:4591\u001b[0m, in \u001b[0;36mNDFrame._drop_axis\u001b[1;34m(self, labels, axis, level, errors, only_slice)\u001b[0m\n\u001b[0;32m   4589\u001b[0m         new_axis \u001b[39m=\u001b[39m axis\u001b[39m.\u001b[39mdrop(labels, level\u001b[39m=\u001b[39mlevel, errors\u001b[39m=\u001b[39merrors)\n\u001b[0;32m   4590\u001b[0m     \u001b[39melse\u001b[39;00m:\n\u001b[1;32m-> 4591\u001b[0m         new_axis \u001b[39m=\u001b[39m axis\u001b[39m.\u001b[39;49mdrop(labels, errors\u001b[39m=\u001b[39;49merrors)\n\u001b[0;32m   4592\u001b[0m     indexer \u001b[39m=\u001b[39m axis\u001b[39m.\u001b[39mget_indexer(new_axis)\n\u001b[0;32m   4594\u001b[0m \u001b[39m# Case for non-unique axis\u001b[39;00m\n\u001b[0;32m   4595\u001b[0m \u001b[39melse\u001b[39;00m:\n",
      "File \u001b[1;32mc:\\Users\\hifia\\anaconda3\\envs\\ML_Project\\lib\\site-packages\\pandas\\core\\indexes\\base.py:6699\u001b[0m, in \u001b[0;36mIndex.drop\u001b[1;34m(self, labels, errors)\u001b[0m\n\u001b[0;32m   6697\u001b[0m \u001b[39mif\u001b[39;00m mask\u001b[39m.\u001b[39many():\n\u001b[0;32m   6698\u001b[0m     \u001b[39mif\u001b[39;00m errors \u001b[39m!=\u001b[39m \u001b[39m\"\u001b[39m\u001b[39mignore\u001b[39m\u001b[39m\"\u001b[39m:\n\u001b[1;32m-> 6699\u001b[0m         \u001b[39mraise\u001b[39;00m \u001b[39mKeyError\u001b[39;00m(\u001b[39mf\u001b[39m\u001b[39m\"\u001b[39m\u001b[39m{\u001b[39;00m\u001b[39mlist\u001b[39m(labels[mask])\u001b[39m}\u001b[39;00m\u001b[39m not found in axis\u001b[39m\u001b[39m\"\u001b[39m)\n\u001b[0;32m   6700\u001b[0m     indexer \u001b[39m=\u001b[39m indexer[\u001b[39m~\u001b[39mmask]\n\u001b[0;32m   6701\u001b[0m \u001b[39mreturn\u001b[39;00m \u001b[39mself\u001b[39m\u001b[39m.\u001b[39mdelete(indexer)\n",
      "\u001b[1;31mKeyError\u001b[0m: \"['Equinox', 'Orbiting Body'] not found in axis\""
     ]
    }
   ],
   "source": [
    "# Drop Equinox and orbiting body\n",
    "df1.drop(['Equinox', 'Orbiting Body'], axis=1, inplace=True)"
   ]
  },
  {
   "cell_type": "code",
   "execution_count": 23,
   "metadata": {},
   "outputs": [],
   "source": [
    "df1['Hazardous'] = df1['Hazardous'].apply(lambda x: 1 if x == True else 0)"
   ]
  },
  {
   "cell_type": "code",
   "execution_count": 24,
   "metadata": {},
   "outputs": [
    {
     "name": "stdout",
     "output_type": "stream",
     "text": [
      "Hazardous\n",
      "0    3932\n",
      "1     755\n",
      "Name: count, dtype: int64\n"
     ]
    }
   ],
   "source": [
    "print(df1['Hazardous'].value_counts())"
   ]
  },
  {
   "cell_type": "code",
   "execution_count": 25,
   "metadata": {},
   "outputs": [],
   "source": [
    "df1.to_csv('Final_datasets/ad_nasa.csv', index=False)\n",
    "del df1"
   ]
  },
  {
   "cell_type": "markdown",
   "metadata": {},
   "source": [
    "#### Set 7"
   ]
  },
  {
   "cell_type": "code",
   "execution_count": 52,
   "metadata": {},
   "outputs": [],
   "source": [
    "df = pd.read_csv('datasets/aa_asteroid_diameter.csv', engine='pyarrow')"
   ]
  },
  {
   "cell_type": "code",
   "execution_count": 53,
   "metadata": {},
   "outputs": [
    {
     "name": "stdout",
     "output_type": "stream",
     "text": [
      "<class 'pandas.core.frame.DataFrame'>\n",
      "RangeIndex: 139736 entries, 0 to 139735\n",
      "Data columns (total 58 columns):\n",
      " #   Column          Non-Null Count   Dtype  \n",
      "---  ------          --------------   -----  \n",
      " 0   full_name       139736 non-null  object \n",
      " 1   a               139736 non-null  float64\n",
      " 2   e               139736 non-null  float64\n",
      " 3   i               139736 non-null  float64\n",
      " 4   om              139736 non-null  float64\n",
      " 5   w               139736 non-null  float64\n",
      " 6   q               139736 non-null  float64\n",
      " 7   ad              139736 non-null  float64\n",
      " 8   per_y           139736 non-null  float64\n",
      " 9   data_arc        139720 non-null  float64\n",
      " 10  condition_code  139732 non-null  float64\n",
      " 11  n_obs_used      139736 non-null  int64  \n",
      " 12  H               138881 non-null  float64\n",
      " 13  spkid           139736 non-null  int64  \n",
      " 14  pdes            139736 non-null  object \n",
      " 15  name            139736 non-null  object \n",
      " 16  neo             139736 non-null  object \n",
      " 17  pha             139736 non-null  object \n",
      " 18  sats            139736 non-null  int64  \n",
      " 19  G               119 non-null     float64\n",
      " 20  diameter        139736 non-null  float64\n",
      " 21  albedo          138520 non-null  float64\n",
      " 22  rot_per         19586 non-null   float64\n",
      " 23  BV              1007 non-null    float64\n",
      " 24  UB              966 non-null     float64\n",
      " 25  spec_B          139736 non-null  object \n",
      " 26  spec_T          139736 non-null  object \n",
      " 27  diameter_sigma  139520 non-null  float64\n",
      " 28  orbit_id        139736 non-null  object \n",
      " 29  epoch           139736 non-null  float64\n",
      " 30  epoch_mjd       139736 non-null  int64  \n",
      " 31  epoch_cal       139736 non-null  object \n",
      " 32  equinox         139736 non-null  object \n",
      " 33  ma              139736 non-null  float64\n",
      " 34  n               139736 non-null  float64\n",
      " 35  tp              139736 non-null  float64\n",
      " 36  tp_cal          139736 non-null  object \n",
      " 37  per             139736 non-null  float64\n",
      " 38  moid            139736 non-null  float64\n",
      " 39  moid_ld         139736 non-null  float64\n",
      " 40  moid_jup        139732 non-null  float64\n",
      " 41  t_jup           139736 non-null  float64\n",
      " 42  sigma_e         139736 non-null  float64\n",
      " 43  sigma_a         139736 non-null  float64\n",
      " 44  sigma_q         139736 non-null  float64\n",
      " 45  sigma_i         139736 non-null  float64\n",
      " 46  sigma_om        139736 non-null  float64\n",
      " 47  sigma_w         139736 non-null  float64\n",
      " 48  sigma_ma        139736 non-null  float64\n",
      " 49  sigma_ad        139736 non-null  float64\n",
      " 50  sigma_n         139736 non-null  float64\n",
      " 51  sigma_tp        139736 non-null  float64\n",
      " 52  sigma_per       139736 non-null  float64\n",
      " 53  class           139736 non-null  object \n",
      " 54  producer        139736 non-null  object \n",
      " 55  first_obs       139736 non-null  object \n",
      " 56  last_obs        139736 non-null  object \n",
      " 57  rms             139736 non-null  float64\n",
      "dtypes: float64(39), int64(4), object(15)\n",
      "memory usage: 61.8+ MB\n"
     ]
    }
   ],
   "source": [
    "df.info()"
   ]
  },
  {
   "cell_type": "code",
   "execution_count": 54,
   "metadata": {},
   "outputs": [],
   "source": [
    "# Drop columns with more than 30% null values\n",
    "for i in df.columns:\n",
    "    if df[i].isnull().sum() > 0.3 * len(df):\n",
    "        df.drop(i, axis=1, inplace=True)"
   ]
  },
  {
   "cell_type": "code",
   "execution_count": 55,
   "metadata": {},
   "outputs": [],
   "source": [
    "df.drop(['equinox'], axis=1, inplace=True)"
   ]
  },
  {
   "cell_type": "code",
   "execution_count": 56,
   "metadata": {},
   "outputs": [
    {
     "name": "stdout",
     "output_type": "stream",
     "text": [
      "<class 'pandas.core.frame.DataFrame'>\n",
      "RangeIndex: 139736 entries, 0 to 139735\n",
      "Data columns (total 53 columns):\n",
      " #   Column          Non-Null Count   Dtype  \n",
      "---  ------          --------------   -----  \n",
      " 0   full_name       139736 non-null  object \n",
      " 1   a               139736 non-null  float64\n",
      " 2   e               139736 non-null  float64\n",
      " 3   i               139736 non-null  float64\n",
      " 4   om              139736 non-null  float64\n",
      " 5   w               139736 non-null  float64\n",
      " 6   q               139736 non-null  float64\n",
      " 7   ad              139736 non-null  float64\n",
      " 8   per_y           139736 non-null  float64\n",
      " 9   data_arc        139720 non-null  float64\n",
      " 10  condition_code  139732 non-null  float64\n",
      " 11  n_obs_used      139736 non-null  int64  \n",
      " 12  H               138881 non-null  float64\n",
      " 13  spkid           139736 non-null  int64  \n",
      " 14  pdes            139736 non-null  object \n",
      " 15  name            139736 non-null  object \n",
      " 16  neo             139736 non-null  object \n",
      " 17  pha             139736 non-null  object \n",
      " 18  sats            139736 non-null  int64  \n",
      " 19  diameter        139736 non-null  float64\n",
      " 20  albedo          138520 non-null  float64\n",
      " 21  spec_B          139736 non-null  object \n",
      " 22  spec_T          139736 non-null  object \n",
      " 23  diameter_sigma  139520 non-null  float64\n",
      " 24  orbit_id        139736 non-null  object \n",
      " 25  epoch           139736 non-null  float64\n",
      " 26  epoch_mjd       139736 non-null  int64  \n",
      " 27  epoch_cal       139736 non-null  object \n",
      " 28  ma              139736 non-null  float64\n",
      " 29  n               139736 non-null  float64\n",
      " 30  tp              139736 non-null  float64\n",
      " 31  tp_cal          139736 non-null  object \n",
      " 32  per             139736 non-null  float64\n",
      " 33  moid            139736 non-null  float64\n",
      " 34  moid_ld         139736 non-null  float64\n",
      " 35  moid_jup        139732 non-null  float64\n",
      " 36  t_jup           139736 non-null  float64\n",
      " 37  sigma_e         139736 non-null  float64\n",
      " 38  sigma_a         139736 non-null  float64\n",
      " 39  sigma_q         139736 non-null  float64\n",
      " 40  sigma_i         139736 non-null  float64\n",
      " 41  sigma_om        139736 non-null  float64\n",
      " 42  sigma_w         139736 non-null  float64\n",
      " 43  sigma_ma        139736 non-null  float64\n",
      " 44  sigma_ad        139736 non-null  float64\n",
      " 45  sigma_n         139736 non-null  float64\n",
      " 46  sigma_tp        139736 non-null  float64\n",
      " 47  sigma_per       139736 non-null  float64\n",
      " 48  class           139736 non-null  object \n",
      " 49  producer        139736 non-null  object \n",
      " 50  first_obs       139736 non-null  object \n",
      " 51  last_obs        139736 non-null  object \n",
      " 52  rms             139736 non-null  float64\n",
      "dtypes: float64(35), int64(4), object(14)\n",
      "memory usage: 56.5+ MB\n"
     ]
    }
   ],
   "source": [
    "df.info()"
   ]
  },
  {
   "cell_type": "code",
   "execution_count": 57,
   "metadata": {},
   "outputs": [],
   "source": [
    "df.dropna(axis=0, inplace=True)"
   ]
  },
  {
   "cell_type": "code",
   "execution_count": 58,
   "metadata": {},
   "outputs": [],
   "source": [
    "df.drop_duplicates(inplace=True)"
   ]
  },
  {
   "cell_type": "code",
   "execution_count": 59,
   "metadata": {},
   "outputs": [],
   "source": [
    "df.drop(['producer'], axis=1, inplace=True)"
   ]
  },
  {
   "cell_type": "code",
   "execution_count": 60,
   "metadata": {},
   "outputs": [
    {
     "name": "stdout",
     "output_type": "stream",
     "text": [
      "neo:\n",
      "neo\n",
      "N    136562\n",
      "Y      1141\n",
      "Name: count, dtype: int64\n",
      "\n",
      "pha:\n",
      "pha\n",
      "N    137402\n",
      "Y       301\n",
      "Name: count, dtype: int64\n",
      "\n"
     ]
    }
   ],
   "source": [
    "for column in df.columns:\n",
    "    if df[column].dtype == 'object' and len(df[column].value_counts()) < 10:\n",
    "        print(f\"{column}:\\n{df[column].value_counts()}\\n\")\n",
    "        "
   ]
  },
  {
   "cell_type": "code",
   "execution_count": 61,
   "metadata": {},
   "outputs": [],
   "source": [
    "from sklearn.preprocessing import LabelEncoder\n",
    "le = LabelEncoder()\n",
    "\n",
    "df['neo'] = le.fit_transform(df['neo'])\n",
    "df['pha'] = le.fit_transform(df['pha'])"
   ]
  },
  {
   "cell_type": "code",
   "execution_count": 63,
   "metadata": {},
   "outputs": [],
   "source": [
    "df = pd.concat((df.drop(['neo', 'pha'], axis=1, inplace=False), df[['neo', 'pha']]), axis=1)"
   ]
  },
  {
   "cell_type": "code",
   "execution_count": 64,
   "metadata": {},
   "outputs": [
    {
     "name": "stdout",
     "output_type": "stream",
     "text": [
      "<class 'pandas.core.frame.DataFrame'>\n",
      "Index: 137703 entries, 0 to 139630\n",
      "Data columns (total 52 columns):\n",
      " #   Column          Non-Null Count   Dtype  \n",
      "---  ------          --------------   -----  \n",
      " 0   full_name       137703 non-null  object \n",
      " 1   a               137703 non-null  float64\n",
      " 2   e               137703 non-null  float64\n",
      " 3   i               137703 non-null  float64\n",
      " 4   om              137703 non-null  float64\n",
      " 5   w               137703 non-null  float64\n",
      " 6   q               137703 non-null  float64\n",
      " 7   ad              137703 non-null  float64\n",
      " 8   per_y           137703 non-null  float64\n",
      " 9   data_arc        137703 non-null  float64\n",
      " 10  condition_code  137703 non-null  float64\n",
      " 11  n_obs_used      137703 non-null  int64  \n",
      " 12  H               137703 non-null  float64\n",
      " 13  spkid           137703 non-null  int64  \n",
      " 14  pdes            137703 non-null  object \n",
      " 15  name            137703 non-null  object \n",
      " 16  sats            137703 non-null  int64  \n",
      " 17  diameter        137703 non-null  float64\n",
      " 18  albedo          137703 non-null  float64\n",
      " 19  spec_B          137703 non-null  object \n",
      " 20  spec_T          137703 non-null  object \n",
      " 21  diameter_sigma  137703 non-null  float64\n",
      " 22  orbit_id        137703 non-null  object \n",
      " 23  epoch           137703 non-null  float64\n",
      " 24  epoch_mjd       137703 non-null  int64  \n",
      " 25  epoch_cal       137703 non-null  object \n",
      " 26  ma              137703 non-null  float64\n",
      " 27  n               137703 non-null  float64\n",
      " 28  tp              137703 non-null  float64\n",
      " 29  tp_cal          137703 non-null  object \n",
      " 30  per             137703 non-null  float64\n",
      " 31  moid            137703 non-null  float64\n",
      " 32  moid_ld         137703 non-null  float64\n",
      " 33  moid_jup        137703 non-null  float64\n",
      " 34  t_jup           137703 non-null  float64\n",
      " 35  sigma_e         137703 non-null  float64\n",
      " 36  sigma_a         137703 non-null  float64\n",
      " 37  sigma_q         137703 non-null  float64\n",
      " 38  sigma_i         137703 non-null  float64\n",
      " 39  sigma_om        137703 non-null  float64\n",
      " 40  sigma_w         137703 non-null  float64\n",
      " 41  sigma_ma        137703 non-null  float64\n",
      " 42  sigma_ad        137703 non-null  float64\n",
      " 43  sigma_n         137703 non-null  float64\n",
      " 44  sigma_tp        137703 non-null  float64\n",
      " 45  sigma_per       137703 non-null  float64\n",
      " 46  class           137703 non-null  object \n",
      " 47  first_obs       137703 non-null  object \n",
      " 48  last_obs        137703 non-null  object \n",
      " 49  rms             137703 non-null  float64\n",
      " 50  neo             137703 non-null  int32  \n",
      " 51  pha             137703 non-null  int32  \n",
      "dtypes: float64(35), int32(2), int64(4), object(11)\n",
      "memory usage: 54.6+ MB\n"
     ]
    }
   ],
   "source": [
    "df.info()"
   ]
  },
  {
   "cell_type": "code",
   "execution_count": 65,
   "metadata": {},
   "outputs": [],
   "source": [
    "df.to_csv('Final_datasets/aa_asteroid_diameter.csv', index=False)\n",
    "del df"
   ]
  },
  {
   "cell_type": "markdown",
   "metadata": {},
   "source": [
    "#### Set 8"
   ]
  },
  {
   "cell_type": "code",
   "execution_count": 90,
   "metadata": {},
   "outputs": [
    {
     "ename": "FileNotFoundError",
     "evalue": "[Errno 2] No such file or directory: 'datasets/ac_dataset.csv'",
     "output_type": "error",
     "traceback": [
      "\u001b[1;31m---------------------------------------------------------------------------\u001b[0m",
      "\u001b[1;31mFileNotFoundError\u001b[0m                         Traceback (most recent call last)",
      "\u001b[1;32mc:\\Users\\hifia\\Projects\\ML Semester project\\compare_csvs.ipynb Cell 100\u001b[0m line \u001b[0;36m1\n\u001b[1;32m----> <a href='vscode-notebook-cell:/c%3A/Users/hifia/Projects/ML%20Semester%20project/compare_csvs.ipynb#Y202sZmlsZQ%3D%3D?line=0'>1</a>\u001b[0m df \u001b[39m=\u001b[39m pd\u001b[39m.\u001b[39;49mread_csv(\u001b[39m'\u001b[39;49m\u001b[39mdatasets/ac_dataset.csv\u001b[39;49m\u001b[39m'\u001b[39;49m, engine\u001b[39m=\u001b[39;49m\u001b[39m'\u001b[39;49m\u001b[39mpyarrow\u001b[39;49m\u001b[39m'\u001b[39;49m)\n\u001b[0;32m      <a href='vscode-notebook-cell:/c%3A/Users/hifia/Projects/ML%20Semester%20project/compare_csvs.ipynb#Y202sZmlsZQ%3D%3D?line=1'>2</a>\u001b[0m df\u001b[39m.\u001b[39minfo()\n",
      "File \u001b[1;32mc:\\Users\\hifia\\anaconda3\\envs\\ML_Project\\lib\\site-packages\\pandas\\io\\parsers\\readers.py:912\u001b[0m, in \u001b[0;36mread_csv\u001b[1;34m(filepath_or_buffer, sep, delimiter, header, names, index_col, usecols, dtype, engine, converters, true_values, false_values, skipinitialspace, skiprows, skipfooter, nrows, na_values, keep_default_na, na_filter, verbose, skip_blank_lines, parse_dates, infer_datetime_format, keep_date_col, date_parser, date_format, dayfirst, cache_dates, iterator, chunksize, compression, thousands, decimal, lineterminator, quotechar, quoting, doublequote, escapechar, comment, encoding, encoding_errors, dialect, on_bad_lines, delim_whitespace, low_memory, memory_map, float_precision, storage_options, dtype_backend)\u001b[0m\n\u001b[0;32m    899\u001b[0m kwds_defaults \u001b[39m=\u001b[39m _refine_defaults_read(\n\u001b[0;32m    900\u001b[0m     dialect,\n\u001b[0;32m    901\u001b[0m     delimiter,\n\u001b[1;32m   (...)\u001b[0m\n\u001b[0;32m    908\u001b[0m     dtype_backend\u001b[39m=\u001b[39mdtype_backend,\n\u001b[0;32m    909\u001b[0m )\n\u001b[0;32m    910\u001b[0m kwds\u001b[39m.\u001b[39mupdate(kwds_defaults)\n\u001b[1;32m--> 912\u001b[0m \u001b[39mreturn\u001b[39;00m _read(filepath_or_buffer, kwds)\n",
      "File \u001b[1;32mc:\\Users\\hifia\\anaconda3\\envs\\ML_Project\\lib\\site-packages\\pandas\\io\\parsers\\readers.py:577\u001b[0m, in \u001b[0;36m_read\u001b[1;34m(filepath_or_buffer, kwds)\u001b[0m\n\u001b[0;32m    574\u001b[0m _validate_names(kwds\u001b[39m.\u001b[39mget(\u001b[39m\"\u001b[39m\u001b[39mnames\u001b[39m\u001b[39m\"\u001b[39m, \u001b[39mNone\u001b[39;00m))\n\u001b[0;32m    576\u001b[0m \u001b[39m# Create the parser.\u001b[39;00m\n\u001b[1;32m--> 577\u001b[0m parser \u001b[39m=\u001b[39m TextFileReader(filepath_or_buffer, \u001b[39m*\u001b[39m\u001b[39m*\u001b[39mkwds)\n\u001b[0;32m    579\u001b[0m \u001b[39mif\u001b[39;00m chunksize \u001b[39mor\u001b[39;00m iterator:\n\u001b[0;32m    580\u001b[0m     \u001b[39mreturn\u001b[39;00m parser\n",
      "File \u001b[1;32mc:\\Users\\hifia\\anaconda3\\envs\\ML_Project\\lib\\site-packages\\pandas\\io\\parsers\\readers.py:1407\u001b[0m, in \u001b[0;36mTextFileReader.__init__\u001b[1;34m(self, f, engine, **kwds)\u001b[0m\n\u001b[0;32m   1404\u001b[0m     \u001b[39mself\u001b[39m\u001b[39m.\u001b[39moptions[\u001b[39m\"\u001b[39m\u001b[39mhas_index_names\u001b[39m\u001b[39m\"\u001b[39m] \u001b[39m=\u001b[39m kwds[\u001b[39m\"\u001b[39m\u001b[39mhas_index_names\u001b[39m\u001b[39m\"\u001b[39m]\n\u001b[0;32m   1406\u001b[0m \u001b[39mself\u001b[39m\u001b[39m.\u001b[39mhandles: IOHandles \u001b[39m|\u001b[39m \u001b[39mNone\u001b[39;00m \u001b[39m=\u001b[39m \u001b[39mNone\u001b[39;00m\n\u001b[1;32m-> 1407\u001b[0m \u001b[39mself\u001b[39m\u001b[39m.\u001b[39m_engine \u001b[39m=\u001b[39m \u001b[39mself\u001b[39;49m\u001b[39m.\u001b[39;49m_make_engine(f, \u001b[39mself\u001b[39;49m\u001b[39m.\u001b[39;49mengine)\n",
      "File \u001b[1;32mc:\\Users\\hifia\\anaconda3\\envs\\ML_Project\\lib\\site-packages\\pandas\\io\\parsers\\readers.py:1661\u001b[0m, in \u001b[0;36mTextFileReader._make_engine\u001b[1;34m(self, f, engine)\u001b[0m\n\u001b[0;32m   1659\u001b[0m     \u001b[39mif\u001b[39;00m \u001b[39m\"\u001b[39m\u001b[39mb\u001b[39m\u001b[39m\"\u001b[39m \u001b[39mnot\u001b[39;00m \u001b[39min\u001b[39;00m mode:\n\u001b[0;32m   1660\u001b[0m         mode \u001b[39m+\u001b[39m\u001b[39m=\u001b[39m \u001b[39m\"\u001b[39m\u001b[39mb\u001b[39m\u001b[39m\"\u001b[39m\n\u001b[1;32m-> 1661\u001b[0m \u001b[39mself\u001b[39m\u001b[39m.\u001b[39mhandles \u001b[39m=\u001b[39m get_handle(\n\u001b[0;32m   1662\u001b[0m     f,\n\u001b[0;32m   1663\u001b[0m     mode,\n\u001b[0;32m   1664\u001b[0m     encoding\u001b[39m=\u001b[39;49m\u001b[39mself\u001b[39;49m\u001b[39m.\u001b[39;49moptions\u001b[39m.\u001b[39;49mget(\u001b[39m\"\u001b[39;49m\u001b[39mencoding\u001b[39;49m\u001b[39m\"\u001b[39;49m, \u001b[39mNone\u001b[39;49;00m),\n\u001b[0;32m   1665\u001b[0m     compression\u001b[39m=\u001b[39;49m\u001b[39mself\u001b[39;49m\u001b[39m.\u001b[39;49moptions\u001b[39m.\u001b[39;49mget(\u001b[39m\"\u001b[39;49m\u001b[39mcompression\u001b[39;49m\u001b[39m\"\u001b[39;49m, \u001b[39mNone\u001b[39;49;00m),\n\u001b[0;32m   1666\u001b[0m     memory_map\u001b[39m=\u001b[39;49m\u001b[39mself\u001b[39;49m\u001b[39m.\u001b[39;49moptions\u001b[39m.\u001b[39;49mget(\u001b[39m\"\u001b[39;49m\u001b[39mmemory_map\u001b[39;49m\u001b[39m\"\u001b[39;49m, \u001b[39mFalse\u001b[39;49;00m),\n\u001b[0;32m   1667\u001b[0m     is_text\u001b[39m=\u001b[39;49mis_text,\n\u001b[0;32m   1668\u001b[0m     errors\u001b[39m=\u001b[39;49m\u001b[39mself\u001b[39;49m\u001b[39m.\u001b[39;49moptions\u001b[39m.\u001b[39;49mget(\u001b[39m\"\u001b[39;49m\u001b[39mencoding_errors\u001b[39;49m\u001b[39m\"\u001b[39;49m, \u001b[39m\"\u001b[39;49m\u001b[39mstrict\u001b[39;49m\u001b[39m\"\u001b[39;49m),\n\u001b[0;32m   1669\u001b[0m     storage_options\u001b[39m=\u001b[39;49m\u001b[39mself\u001b[39;49m\u001b[39m.\u001b[39;49moptions\u001b[39m.\u001b[39;49mget(\u001b[39m\"\u001b[39;49m\u001b[39mstorage_options\u001b[39;49m\u001b[39m\"\u001b[39;49m, \u001b[39mNone\u001b[39;49;00m),\n\u001b[0;32m   1670\u001b[0m )\n\u001b[0;32m   1671\u001b[0m \u001b[39massert\u001b[39;00m \u001b[39mself\u001b[39m\u001b[39m.\u001b[39mhandles \u001b[39mis\u001b[39;00m \u001b[39mnot\u001b[39;00m \u001b[39mNone\u001b[39;00m\n\u001b[0;32m   1672\u001b[0m f \u001b[39m=\u001b[39m \u001b[39mself\u001b[39m\u001b[39m.\u001b[39mhandles\u001b[39m.\u001b[39mhandle\n",
      "File \u001b[1;32mc:\\Users\\hifia\\anaconda3\\envs\\ML_Project\\lib\\site-packages\\pandas\\io\\common.py:868\u001b[0m, in \u001b[0;36mget_handle\u001b[1;34m(path_or_buf, mode, encoding, compression, memory_map, is_text, errors, storage_options)\u001b[0m\n\u001b[0;32m    859\u001b[0m         handle \u001b[39m=\u001b[39m \u001b[39mopen\u001b[39m(\n\u001b[0;32m    860\u001b[0m             handle,\n\u001b[0;32m    861\u001b[0m             ioargs\u001b[39m.\u001b[39mmode,\n\u001b[1;32m   (...)\u001b[0m\n\u001b[0;32m    864\u001b[0m             newline\u001b[39m=\u001b[39m\u001b[39m\"\u001b[39m\u001b[39m\"\u001b[39m,\n\u001b[0;32m    865\u001b[0m         )\n\u001b[0;32m    866\u001b[0m     \u001b[39melse\u001b[39;00m:\n\u001b[0;32m    867\u001b[0m         \u001b[39m# Binary mode\u001b[39;00m\n\u001b[1;32m--> 868\u001b[0m         handle \u001b[39m=\u001b[39m \u001b[39mopen\u001b[39;49m(handle, ioargs\u001b[39m.\u001b[39;49mmode)\n\u001b[0;32m    869\u001b[0m     handles\u001b[39m.\u001b[39mappend(handle)\n\u001b[0;32m    871\u001b[0m \u001b[39m# Convert BytesIO or file objects passed with an encoding\u001b[39;00m\n",
      "\u001b[1;31mFileNotFoundError\u001b[0m: [Errno 2] No such file or directory: 'datasets/ac_dataset.csv'"
     ]
    }
   ],
   "source": [
    "df = pd.read_csv('datasets/ac_dataset.csv', engine='pyarrow')\n",
    "df.info()"
   ]
  },
  {
   "cell_type": "code",
   "execution_count": null,
   "metadata": {},
   "outputs": [],
   "source": [
    "# Remove all columns with more than 30% null values\n",
    "for i in df.columns:\n",
    "    if df[i].isnull().sum() > 0.3 * len(df):\n",
    "        df.drop(i, axis=1, inplace=True)"
   ]
  },
  {
   "cell_type": "code",
   "execution_count": null,
   "metadata": {},
   "outputs": [
    {
     "name": "stdout",
     "output_type": "stream",
     "text": [
      "prefix:\n",
      "prefix\n",
      "     958506\n",
      "A        18\n",
      "Name: count, dtype: int64\n",
      "\n",
      "neo:\n",
      "neo\n",
      "N    935625\n",
      "Y     22895\n",
      "          4\n",
      "Name: count, dtype: int64\n",
      "\n",
      "pha:\n",
      "pha\n",
      "N    936537\n",
      "      19921\n",
      "Y      2066\n",
      "Name: count, dtype: int64\n",
      "\n",
      "equinox:\n",
      "equinox\n",
      "J2000    958524\n",
      "Name: count, dtype: int64\n",
      "\n"
     ]
    }
   ],
   "source": [
    "for column in df.columns:\n",
    "    if df[column].dtype == 'object' and len(df[column].value_counts()) < 10:\n",
    "        print(f\"{column}:\\n{df[column].value_counts()}\\n\")"
   ]
  },
  {
   "cell_type": "code",
   "execution_count": null,
   "metadata": {},
   "outputs": [],
   "source": [
    "df.drop(['prefix', 'equinox'], axis=1, inplace=True)"
   ]
  },
  {
   "cell_type": "code",
   "execution_count": null,
   "metadata": {},
   "outputs": [],
   "source": [
    "df.dropna(axis=0, inplace=True)"
   ]
  },
  {
   "cell_type": "code",
   "execution_count": null,
   "metadata": {},
   "outputs": [],
   "source": [
    "from sklearn.preprocessing import LabelEncoder\n",
    "le = LabelEncoder()\n",
    "\n",
    "df['neo'] = le.fit_transform(df['neo'])\n",
    "df['pha'] = le.fit_transform(df['pha'])"
   ]
  },
  {
   "cell_type": "code",
   "execution_count": null,
   "metadata": {},
   "outputs": [],
   "source": [
    "df = pd.concat((df.drop(['neo', 'pha'], axis=1, inplace=False), df[['neo', 'pha']]), axis=1)"
   ]
  },
  {
   "cell_type": "code",
   "execution_count": null,
   "metadata": {},
   "outputs": [
    {
     "name": "stdout",
     "output_type": "stream",
     "text": [
      "<class 'pandas.core.frame.DataFrame'>\n",
      "Index: 932335 entries, 0 to 958523\n",
      "Data columns (total 40 columns):\n",
      " #   Column     Non-Null Count   Dtype  \n",
      "---  ------     --------------   -----  \n",
      " 0   id         932335 non-null  object \n",
      " 1   spkid      932335 non-null  int64  \n",
      " 2   full_name  932335 non-null  object \n",
      " 3   pdes       932335 non-null  object \n",
      " 4   name       932335 non-null  object \n",
      " 5   H          932335 non-null  float64\n",
      " 6   orbit_id   932335 non-null  object \n",
      " 7   epoch      932335 non-null  float64\n",
      " 8   epoch_mjd  932335 non-null  int64  \n",
      " 9   epoch_cal  932335 non-null  float64\n",
      " 10  e          932335 non-null  float64\n",
      " 11  a          932335 non-null  float64\n",
      " 12  q          932335 non-null  float64\n",
      " 13  i          932335 non-null  float64\n",
      " 14  om         932335 non-null  float64\n",
      " 15  w          932335 non-null  float64\n",
      " 16  ma         932335 non-null  float64\n",
      " 17  ad         932335 non-null  float64\n",
      " 18  n          932335 non-null  float64\n",
      " 19  tp         932335 non-null  float64\n",
      " 20  tp_cal     932335 non-null  float64\n",
      " 21  per        932335 non-null  float64\n",
      " 22  per_y      932335 non-null  float64\n",
      " 23  moid       932335 non-null  float64\n",
      " 24  moid_ld    932335 non-null  float64\n",
      " 25  sigma_e    932335 non-null  float64\n",
      " 26  sigma_a    932335 non-null  float64\n",
      " 27  sigma_q    932335 non-null  float64\n",
      " 28  sigma_i    932335 non-null  float64\n",
      " 29  sigma_om   932335 non-null  float64\n",
      " 30  sigma_w    932335 non-null  float64\n",
      " 31  sigma_ma   932335 non-null  float64\n",
      " 32  sigma_ad   932335 non-null  float64\n",
      " 33  sigma_n    932335 non-null  float64\n",
      " 34  sigma_tp   932335 non-null  float64\n",
      " 35  sigma_per  932335 non-null  float64\n",
      " 36  class      932335 non-null  object \n",
      " 37  rms        932335 non-null  float64\n",
      " 38  neo        932335 non-null  int32  \n",
      " 39  pha        932335 non-null  int32  \n",
      "dtypes: float64(30), int32(2), int64(2), object(6)\n",
      "memory usage: 284.5+ MB\n",
      "None\n"
     ]
    }
   ],
   "source": [
    "print(df.info())"
   ]
  },
  {
   "cell_type": "code",
   "execution_count": null,
   "metadata": {},
   "outputs": [],
   "source": [
    "df.to_csv('Final_datasets/ac_dataset.csv', index=False)"
   ]
  },
  {
   "cell_type": "code",
   "execution_count": null,
   "metadata": {},
   "outputs": [],
   "source": [
    "del df"
   ]
  },
  {
   "cell_type": "markdown",
   "metadata": {},
   "source": [
    "#### Set 9"
   ]
  },
  {
   "cell_type": "code",
   "execution_count": 91,
   "metadata": {},
   "outputs": [
    {
     "name": "stdout",
     "output_type": "stream",
     "text": [
      "<class 'pandas.core.frame.DataFrame'>\n",
      "RangeIndex: 32640 entries, 0 to 32639\n",
      "Data columns (total 79 columns):\n",
      " #   Column          Non-Null Count  Dtype  \n",
      "---  ------          --------------  -----  \n",
      " 0   spkid           32640 non-null  int64  \n",
      " 1   full_name       32640 non-null  object \n",
      " 2   pdes            32640 non-null  object \n",
      " 3   name            32640 non-null  object \n",
      " 4   prefix          32640 non-null  object \n",
      " 5   neo             32640 non-null  object \n",
      " 6   pha             32640 non-null  object \n",
      " 7   sats            32640 non-null  int64  \n",
      " 8   H               32433 non-null  float64\n",
      " 9   G               13 non-null     float64\n",
      " 10  M1              153 non-null    float64\n",
      " 11  M2              47 non-null     float64\n",
      " 12  K1              153 non-null    float64\n",
      " 13  K2              47 non-null     float64\n",
      " 14  PC              29 non-null     float64\n",
      " 15  diameter        1267 non-null   float64\n",
      " 16  extent          32640 non-null  object \n",
      " 17  albedo          1207 non-null   float64\n",
      " 18  rot_per         2136 non-null   float64\n",
      " 19  GM              6 non-null      float64\n",
      " 20  BV              38 non-null     float64\n",
      " 21  UB              38 non-null     float64\n",
      " 22  IR              1 non-null      float64\n",
      " 23  spec_B          32640 non-null  object \n",
      " 24  spec_T          32640 non-null  object \n",
      " 25  H_sigma         12078 non-null  float64\n",
      " 26  diameter_sigma  1163 non-null   float64\n",
      " 27  orbit_id        32640 non-null  object \n",
      " 28  epoch           32640 non-null  float64\n",
      " 29  epoch_mjd       32640 non-null  int64  \n",
      " 30  epoch_cal       32640 non-null  object \n",
      " 31  equinox         32640 non-null  object \n",
      " 32  e               32640 non-null  float64\n",
      " 33  a               32640 non-null  float64\n",
      " 34  q               32640 non-null  float64\n",
      " 35  i               32640 non-null  float64\n",
      " 36  om              32640 non-null  float64\n",
      " 37  w               32640 non-null  float64\n",
      " 38  ma              32640 non-null  float64\n",
      " 39  ad              32640 non-null  float64\n",
      " 40  n               32640 non-null  float64\n",
      " 41  tp              32640 non-null  float64\n",
      " 42  tp_cal          32640 non-null  object \n",
      " 43  per             32640 non-null  float64\n",
      " 44  per_y           32640 non-null  float64\n",
      " 45  moid            32609 non-null  float64\n",
      " 46  moid_ld         32609 non-null  float64\n",
      " 47  moid_jup        32546 non-null  float64\n",
      " 48  t_jup           32640 non-null  float64\n",
      " 49  sigma_e         32607 non-null  float64\n",
      " 50  sigma_a         32607 non-null  float64\n",
      " 51  sigma_q         32607 non-null  float64\n",
      " 52  sigma_i         32607 non-null  float64\n",
      " 53  sigma_om        32607 non-null  float64\n",
      " 54  sigma_w         32607 non-null  float64\n",
      " 55  sigma_ma        32607 non-null  float64\n",
      " 56  sigma_ad        32607 non-null  float64\n",
      " 57  sigma_n         32607 non-null  float64\n",
      " 58  sigma_tp        32607 non-null  float64\n",
      " 59  sigma_per       32607 non-null  float64\n",
      " 60  class           32640 non-null  object \n",
      " 61  producer        32640 non-null  object \n",
      " 62  data_arc        32371 non-null  float64\n",
      " 63  first_obs       32640 non-null  object \n",
      " 64  last_obs        32640 non-null  object \n",
      " 65  n_obs_used      32640 non-null  int64  \n",
      " 66  n_del_obs_used  1008 non-null   float64\n",
      " 67  n_dop_obs_used  1008 non-null   float64\n",
      " 68  condition_code  32629 non-null  float64\n",
      " 69  rms             32632 non-null  float64\n",
      " 70  two_body        32640 non-null  object \n",
      " 71  A1              58 non-null     float64\n",
      " 72  A1_sigma        56 non-null     float64\n",
      " 73  A2              384 non-null    float64\n",
      " 74  A2_sigma        382 non-null    float64\n",
      " 75  A3              19 non-null     float64\n",
      " 76  A3_sigma        19 non-null     float64\n",
      " 77  DT              8 non-null      float64\n",
      " 78  DT_sigma        8 non-null      float64\n",
      "dtypes: float64(57), int64(4), object(18)\n",
      "memory usage: 19.7+ MB\n"
     ]
    }
   ],
   "source": [
    "df = pd.read_csv('datasets/ak_sbdb_query_results.csv', engine='pyarrow')\n",
    "df.info()"
   ]
  },
  {
   "cell_type": "code",
   "execution_count": 92,
   "metadata": {},
   "outputs": [],
   "source": [
    "# Drop columns with more than 30% null values\n",
    "for i in df.columns:\n",
    "    if df[i].isnull().sum() > 0.3 * len(df):\n",
    "        df.drop(i, axis=1, inplace=True)"
   ]
  },
  {
   "cell_type": "code",
   "execution_count": 93,
   "metadata": {},
   "outputs": [],
   "source": [
    "df.dropna(axis=0, inplace=True)\n",
    "df.drop_duplicates(inplace=True)"
   ]
  },
  {
   "cell_type": "code",
   "execution_count": 94,
   "metadata": {},
   "outputs": [],
   "source": [
    "df = pd.concat((df.drop(['neo', 'pha'], axis=1, inplace=False), df[['neo', 'pha']]), axis=1)\n",
    "\n",
    "from sklearn.preprocessing import LabelEncoder\n",
    "le = LabelEncoder()\n",
    "# df['neo'] = le.fit_transform(df['neo'])\n",
    "df['pha'] = le.fit_transform(df['pha'])"
   ]
  },
  {
   "cell_type": "code",
   "execution_count": 95,
   "metadata": {},
   "outputs": [
    {
     "name": "stdout",
     "output_type": "stream",
     "text": [
      "<class 'pandas.core.frame.DataFrame'>\n",
      "Index: 32145 entries, 0 to 32437\n",
      "Data columns (total 54 columns):\n",
      " #   Column          Non-Null Count  Dtype  \n",
      "---  ------          --------------  -----  \n",
      " 0   spkid           32145 non-null  int64  \n",
      " 1   full_name       32145 non-null  object \n",
      " 2   pdes            32145 non-null  object \n",
      " 3   name            32145 non-null  object \n",
      " 4   prefix          32145 non-null  object \n",
      " 5   sats            32145 non-null  int64  \n",
      " 6   H               32145 non-null  float64\n",
      " 7   extent          32145 non-null  object \n",
      " 8   spec_B          32145 non-null  object \n",
      " 9   spec_T          32145 non-null  object \n",
      " 10  orbit_id        32145 non-null  object \n",
      " 11  epoch           32145 non-null  float64\n",
      " 12  epoch_mjd       32145 non-null  int64  \n",
      " 13  epoch_cal       32145 non-null  object \n",
      " 14  equinox         32145 non-null  object \n",
      " 15  e               32145 non-null  float64\n",
      " 16  a               32145 non-null  float64\n",
      " 17  q               32145 non-null  float64\n",
      " 18  i               32145 non-null  float64\n",
      " 19  om              32145 non-null  float64\n",
      " 20  w               32145 non-null  float64\n",
      " 21  ma              32145 non-null  float64\n",
      " 22  ad              32145 non-null  float64\n",
      " 23  n               32145 non-null  float64\n",
      " 24  tp              32145 non-null  float64\n",
      " 25  tp_cal          32145 non-null  object \n",
      " 26  per             32145 non-null  float64\n",
      " 27  per_y           32145 non-null  float64\n",
      " 28  moid            32145 non-null  float64\n",
      " 29  moid_ld         32145 non-null  float64\n",
      " 30  moid_jup        32145 non-null  float64\n",
      " 31  t_jup           32145 non-null  float64\n",
      " 32  sigma_e         32145 non-null  float64\n",
      " 33  sigma_a         32145 non-null  float64\n",
      " 34  sigma_q         32145 non-null  float64\n",
      " 35  sigma_i         32145 non-null  float64\n",
      " 36  sigma_om        32145 non-null  float64\n",
      " 37  sigma_w         32145 non-null  float64\n",
      " 38  sigma_ma        32145 non-null  float64\n",
      " 39  sigma_ad        32145 non-null  float64\n",
      " 40  sigma_n         32145 non-null  float64\n",
      " 41  sigma_tp        32145 non-null  float64\n",
      " 42  sigma_per       32145 non-null  float64\n",
      " 43  class           32145 non-null  object \n",
      " 44  producer        32145 non-null  object \n",
      " 45  data_arc        32145 non-null  float64\n",
      " 46  first_obs       32145 non-null  object \n",
      " 47  last_obs        32145 non-null  object \n",
      " 48  n_obs_used      32145 non-null  int64  \n",
      " 49  condition_code  32145 non-null  float64\n",
      " 50  rms             32145 non-null  float64\n",
      " 51  two_body        32145 non-null  object \n",
      " 52  neo             32145 non-null  object \n",
      " 53  pha             32145 non-null  int32  \n",
      "dtypes: float64(32), int32(1), int64(4), object(17)\n",
      "memory usage: 13.4+ MB\n"
     ]
    }
   ],
   "source": [
    "df.info()"
   ]
  },
  {
   "cell_type": "code",
   "execution_count": 96,
   "metadata": {},
   "outputs": [
    {
     "name": "stdout",
     "output_type": "stream",
     "text": [
      "neo\n",
      "Y    32145\n",
      "Name: count, dtype: int64\n"
     ]
    },
    {
     "data": {
      "text/plain": [
       "pha\n",
       "0    29787\n",
       "1     2358\n",
       "Name: count, dtype: int64"
      ]
     },
     "execution_count": 96,
     "metadata": {},
     "output_type": "execute_result"
    }
   ],
   "source": [
    "print(df['neo'].value_counts())\n",
    "df['pha'].value_counts()"
   ]
  },
  {
   "cell_type": "code",
   "execution_count": 97,
   "metadata": {},
   "outputs": [],
   "source": [
    "df.drop(['neo'], axis=1, inplace=True)"
   ]
  },
  {
   "cell_type": "code",
   "execution_count": 98,
   "metadata": {},
   "outputs": [],
   "source": [
    "df.to_csv('Final_datasets/ak_sbdb_query_results.csv', index=False)"
   ]
  },
  {
   "cell_type": "markdown",
   "metadata": {},
   "source": [
    "#### Final Preprocessing"
   ]
  },
  {
   "cell_type": "code",
   "execution_count": 21,
   "metadata": {},
   "outputs": [],
   "source": [
    "df = pd.read_csv('datasets/bb_Future_Asteroids.csv', engine='pyarrow')"
   ]
  },
  {
   "cell_type": "code",
   "execution_count": 22,
   "metadata": {},
   "outputs": [
    {
     "name": "stdout",
     "output_type": "stream",
     "text": [
      "<class 'pandas.core.frame.DataFrame'>\n",
      "RangeIndex: 1177 entries, 0 to 1176\n",
      "Data columns (total 10 columns):\n",
      " #   Column                                                     Non-Null Count  Dtype  \n",
      "---  ------                                                     --------------  -----  \n",
      " 0   Object                                                     1177 non-null   object \n",
      " 1   Close-Approach (CA) Date (TDB)YYYY-mmm-DD HH:MM ± D_HH:MM  1177 non-null   object \n",
      " 2   CA DistanceNominal(LD/AU)                                  1177 non-null   object \n",
      " 3   CA DistanceMinimum(LD/AU)                                  1177 non-null   object \n",
      " 4   Vrelative(km/s)                                            1177 non-null   float64\n",
      " 5   Vinfinity(km/s)                                            1177 non-null   float64\n",
      " 6   Nsigma                                                     1177 non-null   float64\n",
      " 7   H(mag)                                                     1176 non-null   float64\n",
      " 8   ref                                                        1177 non-null   int64  \n",
      " 9   class                                                      1177 non-null   object \n",
      "dtypes: float64(4), int64(1), object(5)\n",
      "memory usage: 92.1+ KB\n"
     ]
    }
   ],
   "source": [
    "df.info()"
   ]
  },
  {
   "cell_type": "code",
   "execution_count": 23,
   "metadata": {},
   "outputs": [
    {
     "name": "stdout",
     "output_type": "stream",
     "text": [
      "class\n",
      "NEA    1177\n",
      "Name: count, dtype: int64\n"
     ]
    }
   ],
   "source": [
    "print(df['class'].value_counts())"
   ]
  },
  {
   "cell_type": "code",
   "execution_count": 16,
   "metadata": {},
   "outputs": [
    {
     "name": "stdout",
     "output_type": "stream",
     "text": [
      "<class 'pandas.core.frame.DataFrame'>\n",
      "RangeIndex: 32145 entries, 0 to 32144\n",
      "Data columns (total 52 columns):\n",
      " #   Column          Non-Null Count  Dtype  \n",
      "---  ------          --------------  -----  \n",
      " 0   spkid           32145 non-null  int64  \n",
      " 1   full_name       32145 non-null  object \n",
      " 2   pdes            32145 non-null  object \n",
      " 3   name            32145 non-null  object \n",
      " 4   prefix          32145 non-null  object \n",
      " 5   sats            32145 non-null  int64  \n",
      " 6   H               32145 non-null  float64\n",
      " 7   extent          32145 non-null  object \n",
      " 8   spec_B          32145 non-null  object \n",
      " 9   spec_T          32145 non-null  object \n",
      " 10  orbit_id        32145 non-null  object \n",
      " 11  epoch           32145 non-null  float64\n",
      " 12  epoch_mjd       32145 non-null  int64  \n",
      " 13  epoch_cal       32145 non-null  object \n",
      " 14  equinox         32145 non-null  object \n",
      " 15  e               32145 non-null  float64\n",
      " 16  a               32145 non-null  float64\n",
      " 17  q               32145 non-null  float64\n",
      " 18  i               32145 non-null  float64\n",
      " 19  om              32145 non-null  float64\n",
      " 20  w               32145 non-null  float64\n",
      " 21  ma              32145 non-null  float64\n",
      " 22  ad              32145 non-null  float64\n",
      " 23  n               32145 non-null  float64\n",
      " 24  tp              32145 non-null  float64\n",
      " 25  tp_cal          32145 non-null  object \n",
      " 26  per             32145 non-null  float64\n",
      " 27  per_y           32145 non-null  float64\n",
      " 28  moid            32145 non-null  float64\n",
      " 29  moid_ld         32145 non-null  float64\n",
      " 30  moid_jup        32145 non-null  float64\n",
      " 31  t_jup           32145 non-null  float64\n",
      " 32  sigma_e         32145 non-null  float64\n",
      " 33  sigma_a         32145 non-null  float64\n",
      " 34  sigma_q         32145 non-null  float64\n",
      " 35  sigma_i         32145 non-null  float64\n",
      " 36  sigma_om        32145 non-null  float64\n",
      " 37  sigma_w         32145 non-null  float64\n",
      " 38  sigma_ma        32145 non-null  float64\n",
      " 39  sigma_ad        32145 non-null  float64\n",
      " 40  sigma_n         32145 non-null  float64\n",
      " 41  sigma_tp        32145 non-null  float64\n",
      " 42  sigma_per       32145 non-null  float64\n",
      " 43  class           32145 non-null  object \n",
      " 44  producer        32145 non-null  object \n",
      " 45  data_arc        32145 non-null  float64\n",
      " 46  first_obs       32145 non-null  object \n",
      " 47  last_obs        32145 non-null  object \n",
      " 48  n_obs_used      32145 non-null  int64  \n",
      " 49  condition_code  32145 non-null  float64\n",
      " 50  rms             32145 non-null  float64\n",
      " 51  pha             32145 non-null  int64  \n",
      "dtypes: float64(32), int64(5), object(15)\n",
      "memory usage: 12.8+ MB\n"
     ]
    }
   ],
   "source": [
    "df.info()"
   ]
  }
 ],
 "metadata": {
  "kernelspec": {
   "display_name": "ML_Project",
   "language": "python",
   "name": "python3"
  },
  "language_info": {
   "codemirror_mode": {
    "name": "ipython",
    "version": 3
   },
   "file_extension": ".py",
   "mimetype": "text/x-python",
   "name": "python",
   "nbconvert_exporter": "python",
   "pygments_lexer": "ipython3",
   "version": "3.10.13"
  },
  "orig_nbformat": 4
 },
 "nbformat": 4,
 "nbformat_minor": 2
}
