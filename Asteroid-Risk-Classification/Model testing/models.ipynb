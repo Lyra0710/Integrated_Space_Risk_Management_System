{
 "cells": [
  {
   "cell_type": "markdown",
   "metadata": {},
   "source": [
    "# Initial Model Evaluation\n",
    "For this test phase, we will import one somewhat large dataset (in this case, 8_dataset.csv) among the ones in the datasets folder and prepare it, followed by running a few models on it to see how they perform. The models we will be using are:\n",
    "- Logistic Regression\n",
    "- Random Forest\n",
    "- Support Vector Machine\n",
    "- K-Nearest Neighbors\n",
    "- Naive Bayes\n",
    "- Decision Tree"
   ]
  },
  {
   "cell_type": "markdown",
   "metadata": {},
   "source": [
    "#### Imports"
   ]
  },
  {
   "cell_type": "code",
   "execution_count": 1,
   "metadata": {},
   "outputs": [],
   "source": [
    "import pandas as pd\n",
    "import numpy as np\n",
    "import matplotlib.pyplot as plt\n",
    "import seaborn as sns\n",
    "from sklearn.impute import SimpleImputer\n",
    "from sklearn.preprocessing import StandardScaler, LabelEncoder\n",
    "from sklearn.linear_model import LogisticRegression\n",
    "from sklearn.ensemble import RandomForestClassifier\n",
    "from sklearn.svm import SVC\n",
    "from sklearn.model_selection import train_test_split\n",
    "from sklearn.metrics import accuracy_score, confusion_matrix\n",
    "import os\n",
    "from imblearn.over_sampling import SMOTE\n",
    "from collections import Counter\n",
    "import re"
   ]
  },
  {
   "cell_type": "markdown",
   "metadata": {},
   "source": [
    "#### Preprocessing"
   ]
  },
  {
   "cell_type": "code",
   "execution_count": 2,
   "metadata": {},
   "outputs": [],
   "source": [
    "os.chdir('C:/Users/hifia/Projects/ML Semester project/datasets')\n",
    "df = pd.read_csv('8_dataset.csv', low_memory=False)"
   ]
  },
  {
   "cell_type": "code",
   "execution_count": 3,
   "metadata": {},
   "outputs": [],
   "source": [
    "# Delete all entries where neo = nan\n",
    "df = df[df.neo.notna()]"
   ]
  },
  {
   "cell_type": "code",
   "execution_count": 7,
   "metadata": {},
   "outputs": [
    {
     "name": "stdout",
     "output_type": "stream",
     "text": [
      "(958520, 37)\n",
      "(958520,)\n",
      "(958520,)\n",
      "      H  diameter  albedo  diameter_sigma orbit_id      epoch  epoch_mjd  \\\n",
      "0  3.40   939.400  0.0900           0.200   JPL 47  2458600.5      58600   \n",
      "1  4.20   545.000  0.1010          18.000   JPL 37  2459000.5      59000   \n",
      "2  5.33   246.596  0.2140          10.594  JPL 112  2459000.5      59000   \n",
      "3  3.00   525.400  0.4228           0.200   JPL 35  2458600.5      58600   \n",
      "4  6.90   106.699  0.2740           3.140  JPL 114  2459000.5      59000   \n",
      "\n",
      "    epoch_cal equinox         e  ...       sigma_i      sigma_om  \\\n",
      "0  20190427.0   J2000  0.076009  ...  4.608900e-09  6.168800e-08   \n",
      "1  20200531.0   J2000  0.229972  ...  3.469400e-06  6.272400e-06   \n",
      "2  20200531.0   J2000  0.256936  ...  3.223100e-06  1.664600e-05   \n",
      "3  20190427.0   J2000  0.088721  ...  2.170600e-07  3.880800e-07   \n",
      "4  20200531.0   J2000  0.190913  ...  2.740800e-06  2.894900e-05   \n",
      "\n",
      "        sigma_w      sigma_ma      sigma_ad       sigma_n      sigma_tp  \\\n",
      "0  6.624800e-08  7.820700e-09  1.111300e-11  1.196500e-12  3.782900e-08   \n",
      "1  9.128200e-06  8.859100e-06  4.961300e-09  4.653600e-10  4.078700e-05   \n",
      "2  1.772100e-05  8.110400e-06  4.363900e-09  4.413400e-10  3.528800e-05   \n",
      "3  1.789300e-07  1.206800e-06  1.648600e-09  2.612500e-10  4.103700e-06   \n",
      "4  2.984200e-05  8.303800e-06  4.729000e-09  5.522700e-10  3.474300e-05   \n",
      "\n",
      "      sigma_per  class      rms  \n",
      "0  9.415900e-09    MBA  0.43301  \n",
      "1  3.680700e-06    MBA  0.35936  \n",
      "2  3.107200e-06    MBA  0.33848  \n",
      "3  1.274900e-06    MBA  0.39980  \n",
      "4  3.490500e-06    MBA  0.52191  \n",
      "\n",
      "[5 rows x 37 columns]\n"
     ]
    }
   ],
   "source": [
    "x = df.iloc[:, 8:]\n",
    "neo = df.iloc[:, 6]\n",
    "pha = df.iloc[:, 7]\n",
    "\n",
    "print(x.shape)\n",
    "print(neo.shape)\n",
    "print(pha.shape)\n",
    "\n",
    "print(x.head())"
   ]
  },
  {
   "cell_type": "code",
   "execution_count": 8,
   "metadata": {},
   "outputs": [
    {
     "name": "stdout",
     "output_type": "stream",
     "text": [
      "                   spkid         H  diameter    albedo  diameter_sigma  \\\n",
      "spkid           1.000000  0.146078 -0.095362 -0.179656        0.023419   \n",
      "H               0.146078  1.000000 -0.572648 -0.221658       -0.070651   \n",
      "diameter       -0.095362 -0.572648  1.000000 -0.108880        0.337145   \n",
      "albedo         -0.179656 -0.221658 -0.108880  1.000000       -0.080525   \n",
      "diameter_sigma  0.023419 -0.070651  0.337145 -0.080525        1.000000   \n",
      "epoch           0.006816 -0.175728  0.058475  0.094071       -0.005169   \n",
      "epoch_mjd       0.006816 -0.175728  0.058475  0.094071       -0.005169   \n",
      "epoch_cal       0.006999 -0.176366  0.058539  0.094114       -0.005120   \n",
      "e               0.010955  0.345547 -0.050649 -0.020403       -0.016542   \n",
      "a               0.000132 -0.037301  0.146799 -0.114484        0.206718   \n",
      "q              -0.002115 -0.437418  0.329223 -0.267607        0.381335   \n",
      "i               0.013449 -0.099026  0.054963 -0.086802        0.039580   \n",
      "om              0.003874  0.000896  0.001530  0.001548       -0.002485   \n",
      "w               0.003925 -0.003403  0.003115 -0.002566        0.001925   \n",
      "ma             -0.032443 -0.033714 -0.002811 -0.001170       -0.028058   \n",
      "ad              0.000195 -0.024343  0.094735 -0.072042        0.148563   \n",
      "n               0.003201  0.588945 -0.199425  0.355843       -0.150592   \n",
      "tp             -0.002931 -0.061754  0.013128  0.062123       -0.100283   \n",
      "tp_cal         -0.002849 -0.062159  0.013350  0.061666       -0.099186   \n",
      "per             0.000032 -0.004489  0.050282 -0.020586        0.083381   \n",
      "per_y           0.000032 -0.004489  0.050282 -0.020586        0.083381   \n",
      "moid           -0.001651 -0.433071  0.331983 -0.271986        0.384744   \n",
      "moid_ld        -0.002737 -0.435177  0.331983 -0.271986        0.384744   \n",
      "sigma_e        -0.000597 -0.028187 -0.020864 -0.035096        0.006059   \n",
      "sigma_a        -0.000325 -0.016113 -0.023531 -0.040013        0.007154   \n",
      "sigma_q        -0.000644 -0.033503 -0.019447 -0.033137        0.006477   \n",
      "sigma_i        -0.000603 -0.029512 -0.017378 -0.029226        0.007742   \n",
      "sigma_om       -0.000192 -0.004491 -0.024879 -0.041528        0.005930   \n",
      "sigma_w        -0.000146 -0.006980 -0.009857 -0.020697        0.005339   \n",
      "sigma_ma       -0.000146 -0.006979 -0.009806 -0.020545        0.005510   \n",
      "sigma_ad       -0.000277 -0.013451 -0.023295 -0.039579        0.006999   \n",
      "sigma_n        -0.000172  0.000111 -0.025989 -0.041595        0.003722   \n",
      "sigma_tp       -0.000142 -0.006806 -0.009043 -0.017764        0.006165   \n",
      "sigma_per      -0.000238 -0.013075 -0.022720 -0.039207        0.007724   \n",
      "rms             0.008187  0.005632 -0.182322 -0.217858        0.044033   \n",
      "\n",
      "                   epoch  epoch_mjd  epoch_cal         e         a  ...  \\\n",
      "spkid           0.006816   0.006816   0.006999  0.010955  0.000132  ...   \n",
      "H              -0.175728  -0.175728  -0.176366  0.345547 -0.037301  ...   \n",
      "diameter        0.058475   0.058475   0.058539 -0.050649  0.146799  ...   \n",
      "albedo          0.094071   0.094071   0.094114 -0.020403 -0.114484  ...   \n",
      "diameter_sigma -0.005169  -0.005169  -0.005120 -0.016542  0.206718  ...   \n",
      "epoch           1.000000   1.000000   0.999599 -0.098324 -0.005463  ...   \n",
      "epoch_mjd       1.000000   1.000000   0.999599 -0.098324 -0.005463  ...   \n",
      "epoch_cal       0.999599   0.999599   1.000000 -0.099637 -0.005627  ...   \n",
      "e              -0.098324  -0.098324  -0.099637  1.000000  0.022158  ...   \n",
      "a              -0.005463  -0.005463  -0.005627  0.022158  1.000000  ...   \n",
      "q              -0.063813  -0.063813  -0.063574 -0.119561  0.083368  ...   \n",
      "i              -0.055597  -0.055597  -0.054917  0.127766  0.038837  ...   \n",
      "om             -0.005028  -0.005028  -0.004361  0.003163 -0.002079  ...   \n",
      "w              -0.001405  -0.001405  -0.001503  0.008641 -0.001184  ...   \n",
      "ma              0.001854   0.001854   0.002164 -0.025660  0.000767  ...   \n",
      "ad             -0.003572  -0.003572  -0.003743  0.025767  0.999559  ...   \n",
      "n              -0.053637  -0.053637  -0.054071  0.196347 -0.030024  ...   \n",
      "tp              0.449714   0.449714   0.449399 -0.053746 -0.007617  ...   \n",
      "tp_cal          0.449241   0.449241   0.448965 -0.054231 -0.007592  ...   \n",
      "per            -0.000403  -0.000403  -0.000597  0.012076  0.981575  ...   \n",
      "per_y          -0.000403  -0.000403  -0.000597  0.012076  0.981575  ...   \n",
      "moid           -0.065801  -0.065801  -0.065547 -0.109303  0.083404  ...   \n",
      "moid_ld        -0.063662  -0.063662  -0.063615 -0.107868  0.083135  ...   \n",
      "sigma_e        -0.064731  -0.064731  -0.064686 -0.002339  0.006800  ...   \n",
      "sigma_a        -0.032632  -0.032632  -0.032453  0.008558  0.031686  ...   \n",
      "sigma_q        -0.062837  -0.062837  -0.062907 -0.006217  0.007747  ...   \n",
      "sigma_i        -0.068952  -0.068952  -0.068722 -0.000731  0.006767  ...   \n",
      "sigma_om       -0.025013  -0.025013  -0.025095 -0.000202  0.001190  ...   \n",
      "sigma_w        -0.013782  -0.013782  -0.013816 -0.002510  0.001766  ...   \n",
      "sigma_ma       -0.013782  -0.013782  -0.013815 -0.002510  0.001766  ...   \n",
      "sigma_ad       -0.027830  -0.027830  -0.027630  0.009128  0.036793  ...   \n",
      "sigma_n        -0.029254  -0.029254  -0.029088  0.000493  0.000092  ...   \n",
      "sigma_tp       -0.013436  -0.013436  -0.013470 -0.002451  0.001727  ...   \n",
      "sigma_per      -0.024551  -0.024551  -0.024424  0.013446  0.329317  ...   \n",
      "rms             0.007471   0.007471   0.007447 -0.004901 -0.000571  ...   \n",
      "\n",
      "                 sigma_q   sigma_i  sigma_om   sigma_w  sigma_ma  sigma_ad  \\\n",
      "spkid          -0.000644 -0.000603 -0.000192 -0.000146 -0.000146 -0.000277   \n",
      "H              -0.033503 -0.029512 -0.004491 -0.006980 -0.006979 -0.013451   \n",
      "diameter       -0.019447 -0.017378 -0.024879 -0.009857 -0.009806 -0.023295   \n",
      "albedo         -0.033137 -0.029226 -0.041528 -0.020697 -0.020545 -0.039579   \n",
      "diameter_sigma  0.006477  0.007742  0.005930  0.005339  0.005510  0.006999   \n",
      "epoch          -0.062837 -0.068952 -0.025013 -0.013782 -0.013782 -0.027830   \n",
      "epoch_mjd      -0.062837 -0.068952 -0.025013 -0.013782 -0.013782 -0.027830   \n",
      "epoch_cal      -0.062907 -0.068722 -0.025095 -0.013816 -0.013815 -0.027630   \n",
      "e              -0.006217 -0.000731 -0.000202 -0.002510 -0.002510  0.009128   \n",
      "a               0.007747  0.006767  0.001190  0.001766  0.001766  0.036793   \n",
      "q               0.119822  0.096162  0.018575  0.030079  0.030077  0.041902   \n",
      "i              -0.000582  0.011193 -0.001593 -0.001635 -0.001635  0.008237   \n",
      "om             -0.002105 -0.001024 -0.001106 -0.000420 -0.000420  0.000446   \n",
      "w              -0.002259 -0.002266  0.000613 -0.000339 -0.000339  0.000041   \n",
      "ma             -0.000397 -0.001184  0.001245 -0.001764 -0.001763 -0.002633   \n",
      "ad              0.004196  0.003918  0.000640  0.000874  0.000874  0.035620   \n",
      "n              -0.019442 -0.016897 -0.003481 -0.004369 -0.004368 -0.008518   \n",
      "tp             -0.067537 -0.059775 -0.016133 -0.009216 -0.009217 -0.034782   \n",
      "tp_cal         -0.067348 -0.059612 -0.016153 -0.009212 -0.009213 -0.034654   \n",
      "per             0.000307  0.000266  0.000042  0.000069  0.000069  0.026215   \n",
      "per_y           0.000307  0.000266  0.000042  0.000069  0.000069  0.026215   \n",
      "moid            0.119943  0.096285  0.018577  0.030093  0.030091  0.042118   \n",
      "moid_ld         0.119943  0.096285  0.018577  0.030093  0.030091  0.042118   \n",
      "sigma_e         0.752594  0.623015  0.471969  0.033191  0.033188  0.291886   \n",
      "sigma_a         0.270901  0.263221  0.028232  0.004294  0.004298  0.996709   \n",
      "sigma_q         1.000000  0.379487  0.098390  0.047589  0.047598  0.227457   \n",
      "sigma_i         0.379487  1.000000  0.347878  0.007965  0.007975  0.223517   \n",
      "sigma_om        0.098390  0.347878  1.000000  0.003632  0.003623  0.019614   \n",
      "sigma_w         0.047589  0.007965  0.003632  1.000000  1.000000  0.002621   \n",
      "sigma_ma        0.047598  0.007975  0.003623  1.000000  1.000000  0.002625   \n",
      "sigma_ad        0.227457  0.223517  0.019614  0.002621  0.002625  1.000000   \n",
      "sigma_n         0.039268  0.494552  0.357064  0.000232  0.000235  0.019783   \n",
      "sigma_tp        0.044436  0.007587  0.003418  0.999978  0.999978  0.002504   \n",
      "sigma_per       0.191194  0.183394  0.013843  0.002506  0.002509  0.904605   \n",
      "rms            -0.001178 -0.000887 -0.000258 -0.000280 -0.000280 -0.000510   \n",
      "\n",
      "                 sigma_n  sigma_tp  sigma_per       rms  \n",
      "spkid          -0.000172 -0.000142  -0.000238  0.008187  \n",
      "H               0.000111 -0.006806  -0.013075  0.005632  \n",
      "diameter       -0.025989 -0.009043  -0.022720 -0.182322  \n",
      "albedo         -0.041595 -0.017764  -0.039207 -0.217858  \n",
      "diameter_sigma  0.003722  0.006165   0.007724  0.044033  \n",
      "epoch          -0.029254 -0.013436  -0.024551  0.007471  \n",
      "epoch_mjd      -0.029254 -0.013436  -0.024551  0.007471  \n",
      "epoch_cal      -0.029088 -0.013470  -0.024424  0.007447  \n",
      "e               0.000493 -0.002451   0.013446 -0.004901  \n",
      "a               0.000092  0.001727   0.329317 -0.000571  \n",
      "q               0.001200  0.029415   0.036312 -0.005382  \n",
      "i               0.000255 -0.001613   0.016703 -0.003628  \n",
      "om              0.000788 -0.000411   0.000513 -0.001784  \n",
      "w              -0.001792 -0.000325  -0.000557  0.001460  \n",
      "ma              0.000623 -0.001753  -0.002315  0.001619  \n",
      "ad              0.000057  0.000854   0.328907 -0.000412  \n",
      "n               0.000480 -0.004266  -0.009023  0.004960  \n",
      "tp             -0.013754 -0.008821  -0.030486  0.004053  \n",
      "tp_cal         -0.013657 -0.008818  -0.030395  0.003967  \n",
      "per            -0.000002  0.000068   0.311147 -0.000065  \n",
      "per_y          -0.000002  0.000068   0.311147 -0.000065  \n",
      "moid            0.001186  0.029428   0.036610 -0.005547  \n",
      "moid_ld         0.001186  0.029428   0.036610 -0.004088  \n",
      "sigma_e         0.387709  0.030912   0.237965 -0.000997  \n",
      "sigma_a         0.025101  0.004101   0.892260 -0.000600  \n",
      "sigma_q         0.039268  0.044436   0.191194 -0.001178  \n",
      "sigma_i         0.494552  0.007587   0.183394 -0.000887  \n",
      "sigma_om        0.357064  0.003418   0.013843 -0.000258  \n",
      "sigma_w         0.000232  0.999978   0.002506 -0.000280  \n",
      "sigma_ma        0.000235  0.999978   0.002509 -0.000280  \n",
      "sigma_ad        0.019783  0.002504   0.904605 -0.000510  \n",
      "sigma_n         1.000000  0.000191   0.009744  0.000275  \n",
      "sigma_tp        0.000191  1.000000   0.002396 -0.000274  \n",
      "sigma_per       0.009744  0.002396   1.000000 -0.000485  \n",
      "rms             0.000275 -0.000274  -0.000485  1.000000  \n",
      "\n",
      "[35 rows x 35 columns]\n"
     ]
    }
   ],
   "source": [
    "numeric_columns_indexes = df.select_dtypes(include=np.number).columns\n",
    "numeric_columns_numeric_indexes = [df.columns.get_loc(col) for col in numeric_columns_indexes]\n",
    "print(df.iloc[:, numeric_columns_numeric_indexes].corr())"
   ]
  },
  {
   "cell_type": "code",
   "execution_count": 9,
   "metadata": {},
   "outputs": [],
   "source": [
    "# numeric_columns = x.select_dtypes(include=np.number).columns\n",
    "# imputer = SimpleImputer(missing_values=np.nan, strategy='median')\n",
    "# x[:, numeric_columns] = imputer.fit_transform(x[:, numeric_columns])\n",
    "# print(Counter(x))\n",
    "\n",
    "numeric_columns_indexes = x.select_dtypes(include=np.number).columns\n",
    "numeric_columns_numeric_indexes = [x.columns.get_loc(col) for col in numeric_columns_indexes]\n",
    "imputer = SimpleImputer(strategy='mean')\n",
    "x.iloc[:, numeric_columns_numeric_indexes] = imputer.fit_transform(x.iloc[:, numeric_columns_numeric_indexes])"
   ]
  },
  {
   "cell_type": "code",
   "execution_count": 10,
   "metadata": {},
   "outputs": [
    {
     "name": "stdout",
     "output_type": "stream",
     "text": [
      "Index(['orbit_id', 'equinox', 'class'], dtype='object') [4, 8, 35]\n"
     ]
    }
   ],
   "source": [
    "categorical_columns = x.select_dtypes(include='object').columns\n",
    "categorical_columns_numeric_indexes = [x.columns.get_loc(col) for col in categorical_columns]\n",
    "print(categorical_columns, categorical_columns_numeric_indexes)"
   ]
  },
  {
   "cell_type": "code",
   "execution_count": 11,
   "metadata": {},
   "outputs": [
    {
     "name": "stdout",
     "output_type": "stream",
     "text": [
      "0     47\n",
      "1     37\n",
      "2    112\n",
      "3     35\n",
      "4    114\n",
      "Name: orbit_id, dtype: int64\n"
     ]
    }
   ],
   "source": [
    "def process(string):\n",
    "    if type(string) == str:\n",
    "        return int(''.join(re.findall(r'\\d+', string)))\n",
    "    return string\n",
    "\n",
    "x['orbit_id'] = x['orbit_id'].apply(process)\n",
    "print(x['orbit_id'].head())"
   ]
  },
  {
   "cell_type": "code",
   "execution_count": 12,
   "metadata": {},
   "outputs": [
    {
     "name": "stdout",
     "output_type": "stream",
     "text": [
      "0    2000\n",
      "1    2000\n",
      "2    2000\n",
      "3    2000\n",
      "4    2000\n",
      "Name: equinox, dtype: int64\n"
     ]
    }
   ],
   "source": [
    "x['equinox'] = x['equinox'].apply(process)\n",
    "print(x['equinox'].head())"
   ]
  },
  {
   "cell_type": "code",
   "execution_count": 13,
   "metadata": {},
   "outputs": [
    {
     "name": "stdout",
     "output_type": "stream",
     "text": [
      "0    7\n",
      "1    7\n",
      "2    7\n",
      "3    7\n",
      "4    7\n",
      "Name: class, dtype: int32\n"
     ]
    }
   ],
   "source": [
    "le = LabelEncoder()\n",
    "x['class'] = le.fit_transform(x['class'])\n",
    "print(x['class'].head())"
   ]
  },
  {
   "cell_type": "markdown",
   "metadata": {},
   "source": [
    "#### Train test splits and smote"
   ]
  },
  {
   "cell_type": "code",
   "execution_count": 30,
   "metadata": {},
   "outputs": [
    {
     "name": "stdout",
     "output_type": "stream",
     "text": [
      "(766816, 37) (191704, 37) (766816,) (191704,)\n",
      "Class distribution in training set before SMOTE: Counter({'N': 748512, 'Y': 18304}) Counter({'N': 187113, 'Y': 4591})\n"
     ]
    }
   ],
   "source": [
    "x_train, x_test, y_train, y_test = train_test_split(x, neo, test_size=0.3, random_state=42)\n",
    "print(x_train.shape, x_test.shape, y_train.shape, y_test.shape)\n",
    "\n",
    "# Smote\n",
    "print(\"Class distribution in training set before SMOTE:\", Counter(y_train), Counter(y_test))\n"
   ]
  },
  {
   "cell_type": "code",
   "execution_count": 31,
   "metadata": {},
   "outputs": [
    {
     "name": "stdout",
     "output_type": "stream",
     "text": [
      "Class distribution in training set after SMOTE: Counter({'N': 748512, 'Y': 748512})\n"
     ]
    }
   ],
   "source": [
    "smote = SMOTE(random_state=0)\n",
    "x_traina, y_traina = smote.fit_resample(x_train, y_train)\n",
    "print(\"Class distribution in training set after SMOTE:\", Counter(y_traina))"
   ]
  },
  {
   "cell_type": "code",
   "execution_count": 32,
   "metadata": {},
   "outputs": [
    {
     "name": "stdout",
     "output_type": "stream",
     "text": [
      "(1497024, 37) (1497024,)\n",
      "<class 'pandas.core.frame.DataFrame'>\n",
      "RangeIndex: 1497024 entries, 0 to 1497023\n",
      "Data columns (total 37 columns):\n",
      " #   Column          Non-Null Count    Dtype  \n",
      "---  ------          --------------    -----  \n",
      " 0   H               1497024 non-null  float64\n",
      " 1   diameter        1497024 non-null  float64\n",
      " 2   albedo          1497024 non-null  float64\n",
      " 3   diameter_sigma  1497024 non-null  float64\n",
      " 4   orbit_id        1497024 non-null  int64  \n",
      " 5   epoch           1497024 non-null  float64\n",
      " 6   epoch_mjd       1497024 non-null  int64  \n",
      " 7   epoch_cal       1497024 non-null  float64\n",
      " 8   equinox         1497024 non-null  int64  \n",
      " 9   e               1497024 non-null  float64\n",
      " 10  a               1497024 non-null  float64\n",
      " 11  q               1497024 non-null  float64\n",
      " 12  i               1497024 non-null  float64\n",
      " 13  om              1497024 non-null  float64\n",
      " 14  w               1497024 non-null  float64\n",
      " 15  ma              1497024 non-null  float64\n",
      " 16  ad              1497024 non-null  float64\n",
      " 17  n               1497024 non-null  float64\n",
      " 18  tp              1497024 non-null  float64\n",
      " 19  tp_cal          1497024 non-null  float64\n",
      " 20  per             1497024 non-null  float64\n",
      " 21  per_y           1497024 non-null  float64\n",
      " 22  moid            1497024 non-null  float64\n",
      " 23  moid_ld         1497024 non-null  float64\n",
      " 24  sigma_e         1497024 non-null  float64\n",
      " 25  sigma_a         1497024 non-null  float64\n",
      " 26  sigma_q         1497024 non-null  float64\n",
      " 27  sigma_i         1497024 non-null  float64\n",
      " 28  sigma_om        1497024 non-null  float64\n",
      " 29  sigma_w         1497024 non-null  float64\n",
      " 30  sigma_ma        1497024 non-null  float64\n",
      " 31  sigma_ad        1497024 non-null  float64\n",
      " 32  sigma_n         1497024 non-null  float64\n",
      " 33  sigma_tp        1497024 non-null  float64\n",
      " 34  sigma_per       1497024 non-null  float64\n",
      " 35  class           1497024 non-null  int32  \n",
      " 36  rms             1497024 non-null  float64\n",
      "dtypes: float64(33), int32(1), int64(3)\n",
      "memory usage: 416.9 MB\n",
      "None\n"
     ]
    }
   ],
   "source": [
    "print(x_traina.shape, y_traina.shape)\n",
    "print(x_traina.info())"
   ]
  },
  {
   "cell_type": "code",
   "execution_count": 33,
   "metadata": {},
   "outputs": [
    {
     "name": "stdout",
     "output_type": "stream",
     "text": [
      "Done\n",
      "Done\n",
      "Done\n",
      "Done\n",
      "DataFrames have been saved to C:\\Users\\hifia\\Projects\\ML Semester project\\Model testing\n"
     ]
    }
   ],
   "source": [
    "os.chdir('C:/Users/hifia/Projects/ML Semester project/Model testing')\n",
    "# Export the DataFrame to a CSV file\n",
    "x_traina.to_csv('x_traina.csv', index=False)  # Set index=False to exclude the DataFrame index\n",
    "print(\"Done\")\n",
    "y_traina.to_csv('y_traina.csv', index=False)  # Set index=False to exclude the DataFrame index\n",
    "print(\"Done\")\n",
    "x_test.to_csv('x_test.csv', index=False)  # Set index=False to exclude the DataFrame index\n",
    "print(\"Done\")\n",
    "y_test.to_csv('y_test.csv', index=False)  # Set index=False to exclude the DataFrame index\n",
    "print(\"Done\")\n",
    "\n",
    "print(f'DataFrames have been saved to {os.getcwd()}')"
   ]
  },
  {
   "cell_type": "markdown",
   "metadata": {},
   "source": [
    "### TRAINING BEGINS"
   ]
  },
  {
   "cell_type": "code",
   "execution_count": 34,
   "metadata": {},
   "outputs": [],
   "source": [
    "import pandas as pd\n",
    "import numpy as np\n",
    "import matplotlib.pyplot as plt\n",
    "import seaborn as sns\n",
    "from sklearn.impute import SimpleImputer\n",
    "from sklearn.preprocessing import StandardScaler, LabelEncoder\n",
    "from sklearn.linear_model import LogisticRegression\n",
    "from sklearn.ensemble import RandomForestClassifier\n",
    "from sklearn.svm import SVC\n",
    "from sklearn.model_selection import train_test_split\n",
    "from sklearn.metrics import accuracy_score, confusion_matrix\n",
    "import os\n",
    "from imblearn.over_sampling import SMOTE\n",
    "from collections import Counter\n",
    "import re"
   ]
  },
  {
   "cell_type": "markdown",
   "metadata": {},
   "source": [
    "We will use a bunch of different models to assess which model performs best, and then accordingly proceed with the remaining datasets."
   ]
  },
  {
   "cell_type": "code",
   "execution_count": 35,
   "metadata": {},
   "outputs": [],
   "source": [
    "x_train = pd.read_csv('x_traina.csv')\n",
    "y_train = pd.read_csv('y_traina.csv')\n",
    "x_test = pd.read_csv('x_test.csv')\n",
    "y_test = pd.read_csv('y_test.csv')\n"
   ]
  },
  {
   "cell_type": "code",
   "execution_count": 36,
   "metadata": {},
   "outputs": [
    {
     "name": "stdout",
     "output_type": "stream",
     "text": [
      "(1497024, 37) (191704, 37) (1497024, 1) (191704, 1)\n"
     ]
    }
   ],
   "source": [
    "print(x_train.shape, x_test.shape, y_train.shape, y_test.shape)"
   ]
  },
  {
   "cell_type": "markdown",
   "metadata": {},
   "source": [
    "#### K Fold Cross Validation"
   ]
  },
  {
   "cell_type": "code",
   "execution_count": 48,
   "metadata": {},
   "outputs": [],
   "source": [
    "from sklearn.model_selection import StratifiedKFold, KFold, cross_val_score, LeavePOut, TimeSeriesSplit\n",
    "from sklearn.linear_model import LogisticRegression\n",
    "from sklearn.ensemble import RandomForestClassifier\n",
    "from sklearn.svm import SVC\n",
    "import warnings\n",
    "warnings.filterwarnings('ignore')\n",
    "\n",
    "folds = [5, 10, 15]"
   ]
  },
  {
   "cell_type": "markdown",
   "metadata": {},
   "source": [
    "#### Default K-Fold:"
   ]
  },
  {
   "cell_type": "markdown",
   "metadata": {},
   "source": [
    "Logistic Regression"
   ]
  },
  {
   "cell_type": "code",
   "execution_count": 49,
   "metadata": {},
   "outputs": [
    {
     "name": "stdout",
     "output_type": "stream",
     "text": [
      "Fold 1 Accuracy: 0.6130\n",
      "Fold 2 Accuracy: 0.7889\n",
      "Fold 3 Accuracy: 0.6345\n",
      "Fold 4 Accuracy: 0.7834\n",
      "Fold 5 Accuracy: 0.7456\n",
      "Mean Accuracy: 0.7131\n",
      "Standard Deviation of Accuracy: 0.0748\n",
      "Test Accuracy: 0.9565 with 5 folds\n",
      "\n",
      "---------------------\n",
      "\n",
      "Fold 1 Accuracy: 0.9976\n",
      "Fold 2 Accuracy: 0.7353\n",
      "Fold 3 Accuracy: 0.7171\n",
      "Fold 4 Accuracy: 0.7253\n",
      "Fold 5 Accuracy: 0.7239\n",
      "Fold 6 Accuracy: 0.6755\n",
      "Fold 7 Accuracy: 0.7483\n",
      "Fold 8 Accuracy: 0.8088\n",
      "Fold 9 Accuracy: 0.6521\n",
      "Fold 10 Accuracy: 0.9249\n",
      "Mean Accuracy: 0.7709\n",
      "Standard Deviation of Accuracy: 0.1043\n",
      "Test Accuracy: 0.9565 with 10 folds\n",
      "\n",
      "---------------------\n",
      "\n",
      "Fold 1 Accuracy: 0.9833\n",
      "Fold 2 Accuracy: 0.6132\n",
      "Fold 3 Accuracy: 0.6697\n",
      "Fold 4 Accuracy: 0.7321\n",
      "Fold 5 Accuracy: 0.7247\n",
      "Fold 6 Accuracy: 0.7409\n",
      "Fold 7 Accuracy: 0.7175\n",
      "Fold 8 Accuracy: 0.7375\n",
      "Fold 9 Accuracy: 0.6327\n",
      "Fold 10 Accuracy: 0.6159\n",
      "Fold 11 Accuracy: 0.9083\n",
      "Fold 12 Accuracy: 0.7326\n",
      "Fold 13 Accuracy: 0.7158\n",
      "Fold 14 Accuracy: 0.9368\n",
      "Fold 15 Accuracy: 0.9212\n",
      "Mean Accuracy: 0.7588\n",
      "Standard Deviation of Accuracy: 0.1164\n",
      "Test Accuracy: 0.9565 with 15 folds\n",
      "\n",
      "---------------------\n",
      "\n"
     ]
    }
   ],
   "source": [
    "sc = StandardScaler()\n",
    "logistic_x_train = sc.fit_transform(x_train)\n",
    "logistic_x_test = sc.transform(x_test)\n",
    "\n",
    "regressor = LogisticRegression(max_iter=100000)\n",
    "\n",
    "for fold in folds:\n",
    "    # Create a StratifiedKFold object to ensure class balance in each fold\n",
    "    k_fold = KFold(n_splits=fold, shuffle=True, random_state=42)\n",
    "\n",
    "    # Perform K-fold cross-validation and get accuracy scores\n",
    "    accuracy_scores = cross_val_score(regressor, x_train, y_train, cv=k_fold, scoring='accuracy')\n",
    "\n",
    "    # Print the accuracy scores for each fold\n",
    "    for fold_num, accuracy in enumerate(accuracy_scores, start=1):\n",
    "        print(f\"Fold {fold_num} Accuracy: {accuracy:.4f}\")\n",
    "\n",
    "    # Calculate the mean and standard deviation of the accuracy scores\n",
    "    mean_accuracy = np.mean(accuracy_scores)\n",
    "    std_accuracy = np.std(accuracy_scores)\n",
    "\n",
    "    print(f\"Mean Accuracy: {mean_accuracy:.4f}\")\n",
    "    print(f\"Standard Deviation of Accuracy: {std_accuracy:.4f}\")\n",
    "\n",
    "    # Now, you can fit the model on the entire training dataset and evaluate on your test dataset\n",
    "    regressor.fit(x_train, y_train)\n",
    "    test_accuracy = regressor.score(x_test, y_test)\n",
    "    print(f\"Test Accuracy: {test_accuracy:.4f} with {fold} folds\\n\\n---------------------\\n\")"
   ]
  },
  {
   "cell_type": "markdown",
   "metadata": {},
   "source": [
    "Random Forest"
   ]
  },
  {
   "cell_type": "code",
   "execution_count": 50,
   "metadata": {},
   "outputs": [
    {
     "name": "stdout",
     "output_type": "stream",
     "text": [
      "Fold 1 Accuracy: 0.6130\n",
      "Fold 2 Accuracy: 0.7889\n",
      "Fold 3 Accuracy: 0.6345\n",
      "Fold 4 Accuracy: 0.7834\n",
      "Fold 5 Accuracy: 0.7456\n",
      "Mean Accuracy: 0.7131\n",
      "Standard Deviation of Accuracy: 0.0748\n",
      "Test Accuracy: 0.9565 with 5 folds\n",
      "\n",
      "---------------------\n",
      "\n",
      "Fold 1 Accuracy: 0.9976\n",
      "Fold 2 Accuracy: 0.7353\n",
      "Fold 3 Accuracy: 0.7171\n",
      "Fold 4 Accuracy: 0.7253\n",
      "Fold 5 Accuracy: 0.7239\n",
      "Fold 6 Accuracy: 0.6755\n",
      "Fold 7 Accuracy: 0.7483\n",
      "Fold 8 Accuracy: 0.8088\n",
      "Fold 9 Accuracy: 0.6521\n",
      "Fold 10 Accuracy: 0.9249\n",
      "Mean Accuracy: 0.7709\n",
      "Standard Deviation of Accuracy: 0.1043\n",
      "Test Accuracy: 0.9565 with 10 folds\n",
      "\n",
      "---------------------\n",
      "\n",
      "Fold 1 Accuracy: 0.9833\n",
      "Fold 2 Accuracy: 0.6132\n",
      "Fold 3 Accuracy: 0.6697\n",
      "Fold 4 Accuracy: 0.7321\n",
      "Fold 5 Accuracy: 0.7247\n",
      "Fold 6 Accuracy: 0.7409\n",
      "Fold 7 Accuracy: 0.7175\n",
      "Fold 8 Accuracy: 0.7375\n",
      "Fold 9 Accuracy: 0.6327\n",
      "Fold 10 Accuracy: 0.6159\n",
      "Fold 11 Accuracy: 0.9083\n",
      "Fold 12 Accuracy: 0.7326\n",
      "Fold 13 Accuracy: 0.7158\n",
      "Fold 14 Accuracy: 0.9368\n",
      "Fold 15 Accuracy: 0.9212\n",
      "Mean Accuracy: 0.7588\n",
      "Standard Deviation of Accuracy: 0.1164\n",
      "Test Accuracy: 0.9565 with 15 folds\n",
      "\n",
      "---------------------\n",
      "\n"
     ]
    }
   ],
   "source": [
    "sc = StandardScaler()\n",
    "forest_x_train = sc.fit_transform(x_train)\n",
    "forest_x_test = sc.transform(x_test)\n",
    "\n",
    "classifier = RandomForestClassifier(n_estimators = 10, criterion = 'entropy', random_state = 0)\n",
    "\n",
    "for fold in folds:\n",
    "    k_fold = KFold(n_splits=fold, shuffle=True, random_state=42)\n",
    "\n",
    "    # Perform K-fold cross-validation and get accuracy scores\n",
    "    accuracy_scores = cross_val_score(regressor, x_train, y_train, cv=k_fold, scoring='accuracy')\n",
    "\n",
    "    # Print the accuracy scores for each fold\n",
    "    for fold_num, accuracy in enumerate(accuracy_scores, start=1):\n",
    "        print(f\"Fold {fold_num} Accuracy: {accuracy:.4f}\")\n",
    "\n",
    "    # Calculate the mean and standard deviation of the accuracy scores\n",
    "    mean_accuracy = np.mean(accuracy_scores)\n",
    "    std_accuracy = np.std(accuracy_scores)\n",
    "\n",
    "    print(f\"Mean Accuracy: {mean_accuracy:.4f}\")\n",
    "    print(f\"Standard Deviation of Accuracy: {std_accuracy:.4f}\")\n",
    "\n",
    "    # Now, you can fit the model on the entire training dataset and evaluate on your test dataset\n",
    "    regressor.fit(x_train, y_train)\n",
    "    test_accuracy = regressor.score(x_test, y_test)\n",
    "    print(f\"Test Accuracy: {test_accuracy:.4f} with {fold} folds\\n\\n---------------------\\n\")"
   ]
  },
  {
   "cell_type": "markdown",
   "metadata": {},
   "source": [
    "Support Vector Machine"
   ]
  },
  {
   "cell_type": "code",
   "execution_count": 51,
   "metadata": {},
   "outputs": [],
   "source": [
    "# # sc = StandardScaler()\n",
    "# # svm_x_train = sc.fit_transform(x_train)\n",
    "# # svm_x_test = sc.transform(x_test)\n",
    "# # print(\"Finished standard scaling\")\n",
    "\n",
    "# classifier = SVC(kernel = 'linear', random_state = 0)\n",
    "# classifier.fit(logistic_x_train, y_train)\n",
    "# print(\"Finished fitting\")\n",
    "\n",
    "# y_pred = classifier.predict(logistic_x_test)\n",
    "# print(\"Finished predicting\")\n",
    "\n",
    "# cm = confusion_matrix(y_test, y_pred)\n",
    "# print(\"Finished confusion matrix\")\n",
    "\n",
    "# print(cm)\n",
    "# print(accuracy_score(y_test, y_pred))\n",
    "# print(\"Finished accuracy score\")"
   ]
  },
  {
   "cell_type": "code",
   "execution_count": null,
   "metadata": {},
   "outputs": [],
   "source": [
    "# Better feature extraction based on CNN patterns\n",
    "# LSTM, RNN, GRU\n",
    "# Ablation study logging all the parameters I'm using\n",
    "# Deep learning models with plots\n",
    "# Deeper into the literature survey"
   ]
  }
 ],
 "metadata": {
  "kernelspec": {
   "display_name": "ML_Project",
   "language": "python",
   "name": "python3"
  },
  "language_info": {
   "codemirror_mode": {
    "name": "ipython",
    "version": 3
   },
   "file_extension": ".py",
   "mimetype": "text/x-python",
   "name": "python",
   "nbconvert_exporter": "python",
   "pygments_lexer": "ipython3",
   "version": "3.10.13"
  },
  "orig_nbformat": 4
 },
 "nbformat": 4,
 "nbformat_minor": 2
}
